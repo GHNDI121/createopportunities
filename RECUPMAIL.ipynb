{
 "cells": [
  {
   "cell_type": "code",
   "execution_count": 1,
   "id": "923746a4",
   "metadata": {},
   "outputs": [
    {
     "name": "stdout",
     "output_type": "stream",
     "text": [
      "Collecting exchangelib\n",
      "  Downloading exchangelib-5.5.1-py3-none-any.whl.metadata (3.6 kB)\n",
      "Collecting cached_property (from exchangelib)\n",
      "  Downloading cached_property-2.0.1-py3-none-any.whl.metadata (10 kB)\n",
      "Requirement already satisfied: defusedxml>=0.6.0 in c:\\users\\surface studio\\anaconda3\\lib\\site-packages (from exchangelib) (0.7.1)\n",
      "Collecting dnspython>=2.2.0 (from exchangelib)\n",
      "  Using cached dnspython-2.7.0-py3-none-any.whl.metadata (5.8 kB)\n",
      "Collecting isodate (from exchangelib)\n",
      "  Using cached isodate-0.7.2-py3-none-any.whl.metadata (11 kB)\n",
      "Requirement already satisfied: lxml>3.0 in c:\\users\\surface studio\\anaconda3\\lib\\site-packages (from exchangelib) (5.2.1)\n",
      "Collecting oauthlib (from exchangelib)\n",
      "  Downloading oauthlib-3.2.2-py3-none-any.whl.metadata (7.5 kB)\n",
      "Requirement already satisfied: pygments in c:\\users\\surface studio\\anaconda3\\lib\\site-packages (from exchangelib) (2.15.1)\n",
      "Requirement already satisfied: requests>=2.31.0 in c:\\users\\surface studio\\anaconda3\\lib\\site-packages (from exchangelib) (2.32.3)\n",
      "Collecting requests_ntlm>=0.2.0 (from exchangelib)\n",
      "  Downloading requests_ntlm-1.3.0-py3-none-any.whl.metadata (2.4 kB)\n",
      "Collecting requests_oauthlib (from exchangelib)\n",
      "  Downloading requests_oauthlib-2.0.0-py2.py3-none-any.whl.metadata (11 kB)\n",
      "Requirement already satisfied: tzdata in c:\\users\\surface studio\\anaconda3\\lib\\site-packages (from exchangelib) (2023.3)\n",
      "Collecting tzlocal (from exchangelib)\n",
      "  Downloading tzlocal-5.3.1-py3-none-any.whl.metadata (7.6 kB)\n",
      "Requirement already satisfied: charset-normalizer<4,>=2 in c:\\users\\surface studio\\anaconda3\\lib\\site-packages (from requests>=2.31.0->exchangelib) (3.3.2)\n",
      "Requirement already satisfied: idna<4,>=2.5 in c:\\users\\surface studio\\anaconda3\\lib\\site-packages (from requests>=2.31.0->exchangelib) (3.7)\n",
      "Requirement already satisfied: urllib3<3,>=1.21.1 in c:\\users\\surface studio\\anaconda3\\lib\\site-packages (from requests>=2.31.0->exchangelib) (2.2.3)\n",
      "Requirement already satisfied: certifi>=2017.4.17 in c:\\users\\surface studio\\anaconda3\\lib\\site-packages (from requests>=2.31.0->exchangelib) (2025.4.26)\n",
      "Requirement already satisfied: cryptography>=1.3 in c:\\users\\surface studio\\anaconda3\\lib\\site-packages (from requests_ntlm>=0.2.0->exchangelib) (43.0.0)\n",
      "Collecting pyspnego>=0.4.0 (from requests_ntlm>=0.2.0->exchangelib)\n",
      "  Downloading pyspnego-0.11.2-py3-none-any.whl.metadata (5.4 kB)\n",
      "Requirement already satisfied: cffi>=1.12 in c:\\users\\surface studio\\anaconda3\\lib\\site-packages (from cryptography>=1.3->requests_ntlm>=0.2.0->exchangelib) (1.17.1)\n",
      "Requirement already satisfied: pycparser in c:\\users\\surface studio\\anaconda3\\lib\\site-packages (from cffi>=1.12->cryptography>=1.3->requests_ntlm>=0.2.0->exchangelib) (2.21)\n",
      "Collecting sspilib>=0.1.0 (from pyspnego>=0.4.0->requests_ntlm>=0.2.0->exchangelib)\n",
      "  Downloading sspilib-0.3.1-cp312-cp312-win_amd64.whl.metadata (6.2 kB)\n",
      "Downloading exchangelib-5.5.1-py3-none-any.whl (243 kB)\n",
      "Using cached dnspython-2.7.0-py3-none-any.whl (313 kB)\n",
      "Downloading requests_ntlm-1.3.0-py3-none-any.whl (6.6 kB)\n",
      "Downloading pyspnego-0.11.2-py3-none-any.whl (130 kB)\n",
      "Downloading sspilib-0.3.1-cp312-cp312-win_amd64.whl (625 kB)\n",
      "   ---------------------------------------- 0.0/626.0 kB ? eta -:--:--\n",
      "   ---------------------------------------- 626.0/626.0 kB 5.9 MB/s eta 0:00:00\n",
      "Downloading cached_property-2.0.1-py3-none-any.whl (7.4 kB)\n",
      "Using cached isodate-0.7.2-py3-none-any.whl (22 kB)\n",
      "Downloading oauthlib-3.2.2-py3-none-any.whl (151 kB)\n",
      "Downloading requests_oauthlib-2.0.0-py2.py3-none-any.whl (24 kB)\n",
      "Downloading tzlocal-5.3.1-py3-none-any.whl (18 kB)\n",
      "Installing collected packages: tzlocal, sspilib, oauthlib, isodate, dnspython, cached_property, requests_oauthlib, pyspnego, requests_ntlm, exchangelib\n",
      "\n",
      "   ---- -----------------------------------  1/10 [sspilib]\n",
      "   -------- -------------------------------  2/10 [oauthlib]\n",
      "   -------- -------------------------------  2/10 [oauthlib]\n",
      "   ---------------- -----------------------  4/10 [dnspython]\n",
      "   ---------------- -----------------------  4/10 [dnspython]\n",
      "   ---------------- -----------------------  4/10 [dnspython]\n",
      "   ---------------- -----------------------  4/10 [dnspython]\n",
      "   ---------------- -----------------------  4/10 [dnspython]\n",
      "   ---------------- -----------------------  4/10 [dnspython]\n",
      "   ---------------- -----------------------  4/10 [dnspython]\n",
      "   ------------------------ ---------------  6/10 [requests_oauthlib]\n",
      "   ---------------------------- -----------  7/10 [pyspnego]\n",
      "   ---------------------------- -----------  7/10 [pyspnego]\n",
      "   ---------------------------- -----------  7/10 [pyspnego]\n",
      "   ------------------------------------ ---  9/10 [exchangelib]\n",
      "   ------------------------------------ ---  9/10 [exchangelib]\n",
      "   ------------------------------------ ---  9/10 [exchangelib]\n",
      "   ------------------------------------ ---  9/10 [exchangelib]\n",
      "   ------------------------------------ ---  9/10 [exchangelib]\n",
      "   ------------------------------------ ---  9/10 [exchangelib]\n",
      "   ---------------------------------------- 10/10 [exchangelib]\n",
      "\n",
      "Successfully installed cached_property-2.0.1 dnspython-2.7.0 exchangelib-5.5.1 isodate-0.7.2 oauthlib-3.2.2 pyspnego-0.11.2 requests_ntlm-1.3.0 requests_oauthlib-2.0.0 sspilib-0.3.1 tzlocal-5.3.1\n",
      "Note: you may need to restart the kernel to use updated packages.\n"
     ]
    }
   ],
   "source": [
    "%pip install exchangelib"
   ]
  },
  {
   "cell_type": "code",
   "execution_count": null,
   "id": "455ab0af",
   "metadata": {},
   "outputs": [],
   "source": []
  }
 ],
 "metadata": {
  "kernelspec": {
   "display_name": "base",
   "language": "python",
   "name": "python3"
  },
  "language_info": {
   "codemirror_mode": {
    "name": "ipython",
    "version": 3
   },
   "file_extension": ".py",
   "mimetype": "text/x-python",
   "name": "python",
   "nbconvert_exporter": "python",
   "pygments_lexer": "ipython3",
   "version": "3.12.7"
  }
 },
 "nbformat": 4,
 "nbformat_minor": 5
}
