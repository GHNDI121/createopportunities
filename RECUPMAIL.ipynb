{
 "cells": [
  {
   "cell_type": "code",
   "execution_count": 1,
   "id": "923746a4",
   "metadata": {},
   "outputs": [
    {
     "name": "stdout",
     "output_type": "stream",
     "text": [
      "Collecting exchangelib\n",
      "  Downloading exchangelib-5.5.1-py3-none-any.whl.metadata (3.6 kB)\n",
      "Collecting cached_property (from exchangelib)\n",
      "  Downloading cached_property-2.0.1-py3-none-any.whl.metadata (10 kB)\n",
      "Requirement already satisfied: defusedxml>=0.6.0 in c:\\users\\surface studio\\anaconda3\\lib\\site-packages (from exchangelib) (0.7.1)\n",
      "Collecting dnspython>=2.2.0 (from exchangelib)\n",
      "  Using cached dnspython-2.7.0-py3-none-any.whl.metadata (5.8 kB)\n",
      "Collecting isodate (from exchangelib)\n",
      "  Using cached isodate-0.7.2-py3-none-any.whl.metadata (11 kB)\n",
      "Requirement already satisfied: lxml>3.0 in c:\\users\\surface studio\\anaconda3\\lib\\site-packages (from exchangelib) (5.2.1)\n",
      "Collecting oauthlib (from exchangelib)\n",
      "  Downloading oauthlib-3.2.2-py3-none-any.whl.metadata (7.5 kB)\n",
      "Requirement already satisfied: pygments in c:\\users\\surface studio\\anaconda3\\lib\\site-packages (from exchangelib) (2.15.1)\n",
      "Requirement already satisfied: requests>=2.31.0 in c:\\users\\surface studio\\anaconda3\\lib\\site-packages (from exchangelib) (2.32.3)\n",
      "Collecting requests_ntlm>=0.2.0 (from exchangelib)\n",
      "  Downloading requests_ntlm-1.3.0-py3-none-any.whl.metadata (2.4 kB)\n",
      "Collecting requests_oauthlib (from exchangelib)\n",
      "  Downloading requests_oauthlib-2.0.0-py2.py3-none-any.whl.metadata (11 kB)\n",
      "Requirement already satisfied: tzdata in c:\\users\\surface studio\\anaconda3\\lib\\site-packages (from exchangelib) (2023.3)\n",
      "Collecting tzlocal (from exchangelib)\n",
      "  Downloading tzlocal-5.3.1-py3-none-any.whl.metadata (7.6 kB)\n",
      "Requirement already satisfied: charset-normalizer<4,>=2 in c:\\users\\surface studio\\anaconda3\\lib\\site-packages (from requests>=2.31.0->exchangelib) (3.3.2)\n",
      "Requirement already satisfied: idna<4,>=2.5 in c:\\users\\surface studio\\anaconda3\\lib\\site-packages (from requests>=2.31.0->exchangelib) (3.7)\n",
      "Requirement already satisfied: urllib3<3,>=1.21.1 in c:\\users\\surface studio\\anaconda3\\lib\\site-packages (from requests>=2.31.0->exchangelib) (2.2.3)\n",
      "Requirement already satisfied: certifi>=2017.4.17 in c:\\users\\surface studio\\anaconda3\\lib\\site-packages (from requests>=2.31.0->exchangelib) (2025.4.26)\n",
      "Requirement already satisfied: cryptography>=1.3 in c:\\users\\surface studio\\anaconda3\\lib\\site-packages (from requests_ntlm>=0.2.0->exchangelib) (43.0.0)\n",
      "Collecting pyspnego>=0.4.0 (from requests_ntlm>=0.2.0->exchangelib)\n",
      "  Downloading pyspnego-0.11.2-py3-none-any.whl.metadata (5.4 kB)\n",
      "Requirement already satisfied: cffi>=1.12 in c:\\users\\surface studio\\anaconda3\\lib\\site-packages (from cryptography>=1.3->requests_ntlm>=0.2.0->exchangelib) (1.17.1)\n",
      "Requirement already satisfied: pycparser in c:\\users\\surface studio\\anaconda3\\lib\\site-packages (from cffi>=1.12->cryptography>=1.3->requests_ntlm>=0.2.0->exchangelib) (2.21)\n",
      "Collecting sspilib>=0.1.0 (from pyspnego>=0.4.0->requests_ntlm>=0.2.0->exchangelib)\n",
      "  Downloading sspilib-0.3.1-cp312-cp312-win_amd64.whl.metadata (6.2 kB)\n",
      "Downloading exchangelib-5.5.1-py3-none-any.whl (243 kB)\n",
      "Using cached dnspython-2.7.0-py3-none-any.whl (313 kB)\n",
      "Downloading requests_ntlm-1.3.0-py3-none-any.whl (6.6 kB)\n",
      "Downloading pyspnego-0.11.2-py3-none-any.whl (130 kB)\n",
      "Downloading sspilib-0.3.1-cp312-cp312-win_amd64.whl (625 kB)\n",
      "   ---------------------------------------- 0.0/626.0 kB ? eta -:--:--\n",
      "   ---------------------------------------- 626.0/626.0 kB 5.9 MB/s eta 0:00:00\n",
      "Downloading cached_property-2.0.1-py3-none-any.whl (7.4 kB)\n",
      "Using cached isodate-0.7.2-py3-none-any.whl (22 kB)\n",
      "Downloading oauthlib-3.2.2-py3-none-any.whl (151 kB)\n",
      "Downloading requests_oauthlib-2.0.0-py2.py3-none-any.whl (24 kB)\n",
      "Downloading tzlocal-5.3.1-py3-none-any.whl (18 kB)\n",
      "Installing collected packages: tzlocal, sspilib, oauthlib, isodate, dnspython, cached_property, requests_oauthlib, pyspnego, requests_ntlm, exchangelib\n",
      "\n",
      "   ---- -----------------------------------  1/10 [sspilib]\n",
      "   -------- -------------------------------  2/10 [oauthlib]\n",
      "   -------- -------------------------------  2/10 [oauthlib]\n",
      "   ---------------- -----------------------  4/10 [dnspython]\n",
      "   ---------------- -----------------------  4/10 [dnspython]\n",
      "   ---------------- -----------------------  4/10 [dnspython]\n",
      "   ---------------- -----------------------  4/10 [dnspython]\n",
      "   ---------------- -----------------------  4/10 [dnspython]\n",
      "   ---------------- -----------------------  4/10 [dnspython]\n",
      "   ---------------- -----------------------  4/10 [dnspython]\n",
      "   ------------------------ ---------------  6/10 [requests_oauthlib]\n",
      "   ---------------------------- -----------  7/10 [pyspnego]\n",
      "   ---------------------------- -----------  7/10 [pyspnego]\n",
      "   ---------------------------- -----------  7/10 [pyspnego]\n",
      "   ------------------------------------ ---  9/10 [exchangelib]\n",
      "   ------------------------------------ ---  9/10 [exchangelib]\n",
      "   ------------------------------------ ---  9/10 [exchangelib]\n",
      "   ------------------------------------ ---  9/10 [exchangelib]\n",
      "   ------------------------------------ ---  9/10 [exchangelib]\n",
      "   ------------------------------------ ---  9/10 [exchangelib]\n",
      "   ---------------------------------------- 10/10 [exchangelib]\n",
      "\n",
      "Successfully installed cached_property-2.0.1 dnspython-2.7.0 exchangelib-5.5.1 isodate-0.7.2 oauthlib-3.2.2 pyspnego-0.11.2 requests_ntlm-1.3.0 requests_oauthlib-2.0.0 sspilib-0.3.1 tzlocal-5.3.1\n",
      "Note: you may need to restart the kernel to use updated packages.\n"
     ]
    }
   ],
   "source": [
    "%pip install exchangelib"
   ]
  },
  {
   "cell_type": "code",
   "execution_count": 3,
   "id": "0f20852f",
   "metadata": {},
   "outputs": [
    {
     "ename": "AutoDiscoverFailed",
     "evalue": "All steps in the autodiscover protocol failed for email ghoulam.ndiaye@groupeneurotech.com. If you think this is an error, consider doing an official test at https://testconnectivity.microsoft.com",
     "output_type": "error",
     "traceback": [
      "\u001b[1;31m---------------------------------------------------------------------------\u001b[0m",
      "\u001b[1;31mAutoDiscoverFailed\u001b[0m                        Traceback (most recent call last)",
      "Cell \u001b[1;32mIn[3], line 9\u001b[0m\n\u001b[0;32m      7\u001b[0m \u001b[38;5;66;03m# Connexion à la boîte mail Outlook\u001b[39;00m\n\u001b[0;32m      8\u001b[0m creds \u001b[38;5;241m=\u001b[39m Credentials(email, password)\n\u001b[1;32m----> 9\u001b[0m account \u001b[38;5;241m=\u001b[39m Account(email, credentials\u001b[38;5;241m=\u001b[39mcreds, autodiscover\u001b[38;5;241m=\u001b[39m\u001b[38;5;28;01mTrue\u001b[39;00m, access_type\u001b[38;5;241m=\u001b[39mDELEGATE)\n\u001b[0;32m     11\u001b[0m \u001b[38;5;66;03m# Récupérer les 10 derniers mails de la boîte de réception\u001b[39;00m\n\u001b[0;32m     12\u001b[0m \u001b[38;5;28;01mfor\u001b[39;00m item \u001b[38;5;129;01min\u001b[39;00m account\u001b[38;5;241m.\u001b[39minbox\u001b[38;5;241m.\u001b[39mall()\u001b[38;5;241m.\u001b[39morder_by(\u001b[38;5;124m'\u001b[39m\u001b[38;5;124m-datetime_received\u001b[39m\u001b[38;5;124m'\u001b[39m)[:\u001b[38;5;241m10\u001b[39m]:\n",
      "File \u001b[1;32mc:\\Users\\SURFACE STUDIO\\anaconda3\\Lib\\site-packages\\exchangelib\\account.py:182\u001b[0m, in \u001b[0;36mAccount.__init__\u001b[1;34m(self, primary_smtp_address, fullname, access_type, autodiscover, credentials, config, locale, default_timezone)\u001b[0m\n\u001b[0;32m    178\u001b[0m \u001b[38;5;28;01melse\u001b[39;00m:\n\u001b[0;32m    179\u001b[0m     auth_type, retry_policy, version, max_connections \u001b[38;5;241m=\u001b[39m \u001b[38;5;28;01mNone\u001b[39;00m, \u001b[38;5;28;01mNone\u001b[39;00m, \u001b[38;5;28;01mNone\u001b[39;00m, \u001b[38;5;28;01mNone\u001b[39;00m\n\u001b[0;32m    180\u001b[0m \u001b[38;5;28mself\u001b[39m\u001b[38;5;241m.\u001b[39mad_response, \u001b[38;5;28mself\u001b[39m\u001b[38;5;241m.\u001b[39mprotocol \u001b[38;5;241m=\u001b[39m Autodiscovery(\n\u001b[0;32m    181\u001b[0m     email\u001b[38;5;241m=\u001b[39mprimary_smtp_address, credentials\u001b[38;5;241m=\u001b[39mcredentials\n\u001b[1;32m--> 182\u001b[0m )\u001b[38;5;241m.\u001b[39mdiscover()\n\u001b[0;32m    183\u001b[0m \u001b[38;5;66;03m# Let's not use the auth_package hint from the AD response. It could be incorrect and we can just guess.\u001b[39;00m\n\u001b[0;32m    184\u001b[0m \u001b[38;5;28mself\u001b[39m\u001b[38;5;241m.\u001b[39mprotocol\u001b[38;5;241m.\u001b[39mconfig\u001b[38;5;241m.\u001b[39mauth_type \u001b[38;5;241m=\u001b[39m auth_type\n",
      "File \u001b[1;32mc:\\Users\\SURFACE STUDIO\\anaconda3\\Lib\\site-packages\\exchangelib\\autodiscover\\discovery.py:124\u001b[0m, in \u001b[0;36mAutodiscovery.discover\u001b[1;34m(self)\u001b[0m\n\u001b[0;32m    121\u001b[0m     \u001b[38;5;28;01melse\u001b[39;00m:\n\u001b[0;32m    122\u001b[0m         \u001b[38;5;66;03m# This will cache the result\u001b[39;00m\n\u001b[0;32m    123\u001b[0m         log\u001b[38;5;241m.\u001b[39mdebug(\u001b[38;5;124m\"\u001b[39m\u001b[38;5;124mCache miss for key \u001b[39m\u001b[38;5;132;01m%s\u001b[39;00m\u001b[38;5;124m\"\u001b[39m, cache_key)\n\u001b[1;32m--> 124\u001b[0m         ad \u001b[38;5;241m=\u001b[39m \u001b[38;5;28mself\u001b[39m\u001b[38;5;241m.\u001b[39m_step_1(hostname\u001b[38;5;241m=\u001b[39mdomain)\n\u001b[0;32m    126\u001b[0m log\u001b[38;5;241m.\u001b[39mdebug(\u001b[38;5;124m\"\u001b[39m\u001b[38;5;124mReleased autodiscover_cache_lock\u001b[39m\u001b[38;5;124m\"\u001b[39m)\n\u001b[0;32m    127\u001b[0m \u001b[38;5;28;01mif\u001b[39;00m ad\u001b[38;5;241m.\u001b[39mredirect_address:\n",
      "File \u001b[1;32mc:\\Users\\SURFACE STUDIO\\anaconda3\\Lib\\site-packages\\exchangelib\\autodiscover\\discovery.py:336\u001b[0m, in \u001b[0;36mAutodiscovery._step_1\u001b[1;34m(self, hostname)\u001b[0m\n\u001b[0;32m    334\u001b[0m \u001b[38;5;28;01mif\u001b[39;00m is_valid_response:\n\u001b[0;32m    335\u001b[0m     \u001b[38;5;28;01mreturn\u001b[39;00m \u001b[38;5;28mself\u001b[39m\u001b[38;5;241m.\u001b[39m_step_5(ad\u001b[38;5;241m=\u001b[39mad)\n\u001b[1;32m--> 336\u001b[0m \u001b[38;5;28;01mreturn\u001b[39;00m \u001b[38;5;28mself\u001b[39m\u001b[38;5;241m.\u001b[39m_step_2(hostname\u001b[38;5;241m=\u001b[39mhostname)\n",
      "File \u001b[1;32mc:\\Users\\SURFACE STUDIO\\anaconda3\\Lib\\site-packages\\exchangelib\\autodiscover\\discovery.py:352\u001b[0m, in \u001b[0;36mAutodiscovery._step_2\u001b[1;34m(self, hostname)\u001b[0m\n\u001b[0;32m    350\u001b[0m \u001b[38;5;28;01mif\u001b[39;00m is_valid_response:\n\u001b[0;32m    351\u001b[0m     \u001b[38;5;28;01mreturn\u001b[39;00m \u001b[38;5;28mself\u001b[39m\u001b[38;5;241m.\u001b[39m_step_5(ad\u001b[38;5;241m=\u001b[39mad)\n\u001b[1;32m--> 352\u001b[0m \u001b[38;5;28;01mreturn\u001b[39;00m \u001b[38;5;28mself\u001b[39m\u001b[38;5;241m.\u001b[39m_step_3(hostname\u001b[38;5;241m=\u001b[39mhostname)\n",
      "File \u001b[1;32mc:\\Users\\SURFACE STUDIO\\anaconda3\\Lib\\site-packages\\exchangelib\\autodiscover\\discovery.py:388\u001b[0m, in \u001b[0;36mAutodiscovery._step_3\u001b[1;34m(self, hostname)\u001b[0m\n\u001b[0;32m    386\u001b[0m         \u001b[38;5;28;01mreturn\u001b[39;00m \u001b[38;5;28mself\u001b[39m\u001b[38;5;241m.\u001b[39m_step_4(hostname\u001b[38;5;241m=\u001b[39mhostname)\n\u001b[0;32m    387\u001b[0m log\u001b[38;5;241m.\u001b[39mdebug(\u001b[38;5;124m\"\u001b[39m\u001b[38;5;124mGot no redirect URL\u001b[39m\u001b[38;5;124m\"\u001b[39m)\n\u001b[1;32m--> 388\u001b[0m \u001b[38;5;28;01mreturn\u001b[39;00m \u001b[38;5;28mself\u001b[39m\u001b[38;5;241m.\u001b[39m_step_4(hostname\u001b[38;5;241m=\u001b[39mhostname)\n",
      "File \u001b[1;32mc:\\Users\\SURFACE STUDIO\\anaconda3\\Lib\\site-packages\\exchangelib\\autodiscover\\discovery.py:415\u001b[0m, in \u001b[0;36mAutodiscovery._step_4\u001b[1;34m(self, hostname)\u001b[0m\n\u001b[0;32m    413\u001b[0m     srv_host \u001b[38;5;241m=\u001b[39m \u001b[38;5;28;01mNone\u001b[39;00m\n\u001b[0;32m    414\u001b[0m \u001b[38;5;28;01mif\u001b[39;00m \u001b[38;5;129;01mnot\u001b[39;00m srv_host:\n\u001b[1;32m--> 415\u001b[0m     \u001b[38;5;28;01mreturn\u001b[39;00m \u001b[38;5;28mself\u001b[39m\u001b[38;5;241m.\u001b[39m_step_6()\n\u001b[0;32m    416\u001b[0m redirect_url \u001b[38;5;241m=\u001b[39m \u001b[38;5;124mf\u001b[39m\u001b[38;5;124m\"\u001b[39m\u001b[38;5;124mhttps://\u001b[39m\u001b[38;5;132;01m{\u001b[39;00msrv_host\u001b[38;5;132;01m}\u001b[39;00m\u001b[38;5;124m/\u001b[39m\u001b[38;5;132;01m{\u001b[39;00m\u001b[38;5;28mself\u001b[39m\u001b[38;5;241m.\u001b[39mURL_PATH\u001b[38;5;132;01m}\u001b[39;00m\u001b[38;5;124m\"\u001b[39m\n\u001b[0;32m    417\u001b[0m \u001b[38;5;28;01mif\u001b[39;00m \u001b[38;5;28mself\u001b[39m\u001b[38;5;241m.\u001b[39m_redirect_url_is_valid(url\u001b[38;5;241m=\u001b[39mredirect_url):\n",
      "File \u001b[1;32mc:\\Users\\SURFACE STUDIO\\anaconda3\\Lib\\site-packages\\exchangelib\\autodiscover\\discovery.py:467\u001b[0m, in \u001b[0;36mAutodiscovery._step_6\u001b[1;34m(self)\u001b[0m\n\u001b[0;32m    462\u001b[0m \u001b[38;5;28;01mdef\u001b[39;00m \u001b[38;5;21m_step_6\u001b[39m(\u001b[38;5;28mself\u001b[39m):\n\u001b[0;32m    463\u001b[0m \u001b[38;5;250m    \u001b[39m\u001b[38;5;124;03m\"\"\"Perform step 6. If the client cannot contact the Autodiscover service, the client should ask the user for\u001b[39;00m\n\u001b[0;32m    464\u001b[0m \u001b[38;5;124;03m    the Exchange server name and use it to construct an Exchange EWS URL. The client should try to use this URL for\u001b[39;00m\n\u001b[0;32m    465\u001b[0m \u001b[38;5;124;03m    future requests.\u001b[39;00m\n\u001b[0;32m    466\u001b[0m \u001b[38;5;124;03m    \"\"\"\u001b[39;00m\n\u001b[1;32m--> 467\u001b[0m     \u001b[38;5;28;01mraise\u001b[39;00m AutoDiscoverFailed(\n\u001b[0;32m    468\u001b[0m         \u001b[38;5;124mf\u001b[39m\u001b[38;5;124m\"\u001b[39m\u001b[38;5;124mAll steps in the autodiscover protocol failed for email \u001b[39m\u001b[38;5;132;01m{\u001b[39;00m\u001b[38;5;28mself\u001b[39m\u001b[38;5;241m.\u001b[39memail\u001b[38;5;132;01m}\u001b[39;00m\u001b[38;5;124m. If you think this is an error, \u001b[39m\u001b[38;5;124m\"\u001b[39m\n\u001b[0;32m    469\u001b[0m         \u001b[38;5;124mf\u001b[39m\u001b[38;5;124m\"\u001b[39m\u001b[38;5;124mconsider doing an official test at https://testconnectivity.microsoft.com\u001b[39m\u001b[38;5;124m\"\u001b[39m\n\u001b[0;32m    470\u001b[0m     )\n",
      "\u001b[1;31mAutoDiscoverFailed\u001b[0m: All steps in the autodiscover protocol failed for email ghoulam.ndiaye@groupeneurotech.com. If you think this is an error, consider doing an official test at https://testconnectivity.microsoft.com"
     ]
    }
   ],
   "source": [
    "from exchangelib import Credentials, Account, DELEGATE\n",
    "\n",
    "# Remplacez par vos informations Outlook\n",
    "email = 'ghoulam.ndiaye@groupeneurotech.com'\n",
    "password = 'Neurotech2025!'\n",
    "\n",
    "# Connexion à la boîte mail Outlook\n",
    "creds = Credentials(email, password)\n",
    "account = Account(email, credentials=creds, autodiscover=True, access_type=DELEGATE)\n",
    "\n",
    "# Récupérer les 10 derniers mails de la boîte de réception\n",
    "for item in account.inbox.all().order_by('-datetime_received')[:10]:\n",
    "    print('Sujet:', item.subject)\n",
    "    print('De:', item.sender)\n",
    "    print('Date:', item.datetime_received)\n",
    "    print('---')"
   ]
  },
  {
   "cell_type": "code",
   "execution_count": null,
   "id": "455ab0af",
   "metadata": {},
   "outputs": [],
   "source": []
  }
 ],
 "metadata": {
  "kernelspec": {
   "display_name": "base",
   "language": "python",
   "name": "python3"
  },
  "language_info": {
   "codemirror_mode": {
    "name": "ipython",
    "version": 3
   },
   "file_extension": ".py",
   "mimetype": "text/x-python",
   "name": "python",
   "nbconvert_exporter": "python",
   "pygments_lexer": "ipython3",
   "version": "3.12.7"
  }
 },
 "nbformat": 4,
 "nbformat_minor": 5
}
