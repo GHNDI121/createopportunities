{
 "cells": [
  {
   "cell_type": "markdown",
   "id": "6ea55246",
   "metadata": {},
   "source": [
    "# Scraping des offres sur le site `marchespublics.sn`\n",
    "\n",
    "Dans ce notebook, nous allons utiliser Selenium pour scraper les offres publiées sur le site [marchespublics.sn](http://www.marchespublics.sn/index.php?option=com_loffres&Itemid=104)."
   ]
  },
  {
   "cell_type": "code",
   "execution_count": 11,
   "id": "7dad7a88",
   "metadata": {},
   "outputs": [
    {
     "name": "stdout",
     "output_type": "stream",
     "text": [
      "Requirement already satisfied: selenium in c:\\users\\surface studio\\onedrive\\bureau\\stage neurotech\\ia crm\\projet-neurotech\\nouveau depart\\env\\lib\\site-packages (4.33.0)\n",
      "Requirement already satisfied: urllib3~=2.4.0 in c:\\users\\surface studio\\onedrive\\bureau\\stage neurotech\\ia crm\\projet-neurotech\\nouveau depart\\env\\lib\\site-packages (from urllib3[socks]~=2.4.0->selenium) (2.4.0)\n",
      "Requirement already satisfied: trio~=0.30.0 in c:\\users\\surface studio\\onedrive\\bureau\\stage neurotech\\ia crm\\projet-neurotech\\nouveau depart\\env\\lib\\site-packages (from selenium) (0.30.0)\n",
      "Requirement already satisfied: trio-websocket~=0.12.2 in c:\\users\\surface studio\\onedrive\\bureau\\stage neurotech\\ia crm\\projet-neurotech\\nouveau depart\\env\\lib\\site-packages (from selenium) (0.12.2)\n",
      "Requirement already satisfied: certifi>=2025.4.26 in c:\\users\\surface studio\\onedrive\\bureau\\stage neurotech\\ia crm\\projet-neurotech\\nouveau depart\\env\\lib\\site-packages (from selenium) (2025.6.15)\n",
      "Requirement already satisfied: typing_extensions~=4.13.2 in c:\\users\\surface studio\\onedrive\\bureau\\stage neurotech\\ia crm\\projet-neurotech\\nouveau depart\\env\\lib\\site-packages (from selenium) (4.13.2)\n",
      "Requirement already satisfied: websocket-client~=1.8.0 in c:\\users\\surface studio\\onedrive\\bureau\\stage neurotech\\ia crm\\projet-neurotech\\nouveau depart\\env\\lib\\site-packages (from selenium) (1.8.0)\n",
      "Requirement already satisfied: attrs>=23.2.0 in c:\\users\\surface studio\\onedrive\\bureau\\stage neurotech\\ia crm\\projet-neurotech\\nouveau depart\\env\\lib\\site-packages (from trio~=0.30.0->selenium) (25.3.0)\n",
      "Requirement already satisfied: sortedcontainers in c:\\users\\surface studio\\onedrive\\bureau\\stage neurotech\\ia crm\\projet-neurotech\\nouveau depart\\env\\lib\\site-packages (from trio~=0.30.0->selenium) (2.4.0)\n",
      "Requirement already satisfied: idna in c:\\users\\surface studio\\onedrive\\bureau\\stage neurotech\\ia crm\\projet-neurotech\\nouveau depart\\env\\lib\\site-packages (from trio~=0.30.0->selenium) (3.10)\n",
      "Requirement already satisfied: outcome in c:\\users\\surface studio\\onedrive\\bureau\\stage neurotech\\ia crm\\projet-neurotech\\nouveau depart\\env\\lib\\site-packages (from trio~=0.30.0->selenium) (1.3.0.post0)\n",
      "Requirement already satisfied: sniffio>=1.3.0 in c:\\users\\surface studio\\onedrive\\bureau\\stage neurotech\\ia crm\\projet-neurotech\\nouveau depart\\env\\lib\\site-packages (from trio~=0.30.0->selenium) (1.3.1)\n",
      "Requirement already satisfied: cffi>=1.14 in c:\\users\\surface studio\\onedrive\\bureau\\stage neurotech\\ia crm\\projet-neurotech\\nouveau depart\\env\\lib\\site-packages (from trio~=0.30.0->selenium) (1.17.1)\n",
      "Requirement already satisfied: wsproto>=0.14 in c:\\users\\surface studio\\onedrive\\bureau\\stage neurotech\\ia crm\\projet-neurotech\\nouveau depart\\env\\lib\\site-packages (from trio-websocket~=0.12.2->selenium) (1.2.0)\n",
      "Requirement already satisfied: pysocks!=1.5.7,<2.0,>=1.5.6 in c:\\users\\surface studio\\onedrive\\bureau\\stage neurotech\\ia crm\\projet-neurotech\\nouveau depart\\env\\lib\\site-packages (from urllib3[socks]~=2.4.0->selenium) (1.7.1)\n",
      "Requirement already satisfied: pycparser in c:\\users\\surface studio\\onedrive\\bureau\\stage neurotech\\ia crm\\projet-neurotech\\nouveau depart\\env\\lib\\site-packages (from cffi>=1.14->trio~=0.30.0->selenium) (2.22)\n",
      "Requirement already satisfied: h11<1,>=0.9.0 in c:\\users\\surface studio\\onedrive\\bureau\\stage neurotech\\ia crm\\projet-neurotech\\nouveau depart\\env\\lib\\site-packages (from wsproto>=0.14->trio-websocket~=0.12.2->selenium) (0.14.0)\n",
      "Note: you may need to restart the kernel to use updated packages.\n"
     ]
    },
    {
     "name": "stderr",
     "output_type": "stream",
     "text": [
      "WARNING: Ignoring invalid distribution ~vicorn (c:\\Users\\SURFACE STUDIO\\OneDrive\\Bureau\\Stage Neurotech\\IA CRM\\projet-neurotech\\nouveau depart\\env\\Lib\\site-packages)\n",
      "WARNING: Ignoring invalid distribution ~vicorn (c:\\Users\\SURFACE STUDIO\\OneDrive\\Bureau\\Stage Neurotech\\IA CRM\\projet-neurotech\\nouveau depart\\env\\Lib\\site-packages)\n",
      "WARNING: Ignoring invalid distribution ~vicorn (c:\\Users\\SURFACE STUDIO\\OneDrive\\Bureau\\Stage Neurotech\\IA CRM\\projet-neurotech\\nouveau depart\\env\\Lib\\site-packages)\n",
      "WARNING: Ignoring invalid distribution ~vicorn (c:\\Users\\SURFACE STUDIO\\OneDrive\\Bureau\\Stage Neurotech\\IA CRM\\projet-neurotech\\nouveau depart\\env\\Lib\\site-packages)\n",
      "\n",
      "[notice] A new release of pip is available: 24.3.1 -> 25.1.1\n",
      "[notice] To update, run: python.exe -m pip install --upgrade pip\n"
     ]
    },
    {
     "name": "stdout",
     "output_type": "stream",
     "text": [
      "Requirement already satisfied: webdriver-manager in c:\\users\\surface studio\\onedrive\\bureau\\stage neurotech\\ia crm\\projet-neurotech\\nouveau depart\\env\\lib\\site-packages (4.0.2)\n",
      "Requirement already satisfied: requests in c:\\users\\surface studio\\onedrive\\bureau\\stage neurotech\\ia crm\\projet-neurotech\\nouveau depart\\env\\lib\\site-packages (from webdriver-manager) (2.32.3)\n",
      "Requirement already satisfied: python-dotenv in c:\\users\\surface studio\\onedrive\\bureau\\stage neurotech\\ia crm\\projet-neurotech\\nouveau depart\\env\\lib\\site-packages (from webdriver-manager) (1.1.0)\n",
      "Requirement already satisfied: packaging in c:\\users\\surface studio\\onedrive\\bureau\\stage neurotech\\ia crm\\projet-neurotech\\nouveau depart\\env\\lib\\site-packages (from webdriver-manager) (24.2)\n",
      "Requirement already satisfied: charset-normalizer<4,>=2 in c:\\users\\surface studio\\onedrive\\bureau\\stage neurotech\\ia crm\\projet-neurotech\\nouveau depart\\env\\lib\\site-packages (from requests->webdriver-manager) (3.4.1)\n",
      "Requirement already satisfied: idna<4,>=2.5 in c:\\users\\surface studio\\onedrive\\bureau\\stage neurotech\\ia crm\\projet-neurotech\\nouveau depart\\env\\lib\\site-packages (from requests->webdriver-manager) (3.10)\n",
      "Requirement already satisfied: urllib3<3,>=1.21.1 in c:\\users\\surface studio\\onedrive\\bureau\\stage neurotech\\ia crm\\projet-neurotech\\nouveau depart\\env\\lib\\site-packages (from requests->webdriver-manager) (2.4.0)\n",
      "Requirement already satisfied: certifi>=2017.4.17 in c:\\users\\surface studio\\onedrive\\bureau\\stage neurotech\\ia crm\\projet-neurotech\\nouveau depart\\env\\lib\\site-packages (from requests->webdriver-manager) (2025.6.15)\n",
      "Note: you may need to restart the kernel to use updated packages.\n"
     ]
    },
    {
     "name": "stderr",
     "output_type": "stream",
     "text": [
      "WARNING: Ignoring invalid distribution ~vicorn (c:\\Users\\SURFACE STUDIO\\OneDrive\\Bureau\\Stage Neurotech\\IA CRM\\projet-neurotech\\nouveau depart\\env\\Lib\\site-packages)\n",
      "WARNING: Ignoring invalid distribution ~vicorn (c:\\Users\\SURFACE STUDIO\\OneDrive\\Bureau\\Stage Neurotech\\IA CRM\\projet-neurotech\\nouveau depart\\env\\Lib\\site-packages)\n",
      "WARNING: Ignoring invalid distribution ~vicorn (c:\\Users\\SURFACE STUDIO\\OneDrive\\Bureau\\Stage Neurotech\\IA CRM\\projet-neurotech\\nouveau depart\\env\\Lib\\site-packages)\n",
      "WARNING: Ignoring invalid distribution ~vicorn (c:\\Users\\SURFACE STUDIO\\OneDrive\\Bureau\\Stage Neurotech\\IA CRM\\projet-neurotech\\nouveau depart\\env\\Lib\\site-packages)\n",
      "\n",
      "[notice] A new release of pip is available: 24.3.1 -> 25.1.1\n",
      "[notice] To update, run: python.exe -m pip install --upgrade pip\n"
     ]
    },
    {
     "name": "stdout",
     "output_type": "stream",
     "text": [
      "Requirement already satisfied: pandas in c:\\users\\surface studio\\onedrive\\bureau\\stage neurotech\\ia crm\\projet-neurotech\\nouveau depart\\env\\lib\\site-packages (2.2.3)\n",
      "Requirement already satisfied: numpy>=1.26.0 in c:\\users\\surface studio\\onedrive\\bureau\\stage neurotech\\ia crm\\projet-neurotech\\nouveau depart\\env\\lib\\site-packages (from pandas) (2.2.4)\n",
      "Requirement already satisfied: python-dateutil>=2.8.2 in c:\\users\\surface studio\\onedrive\\bureau\\stage neurotech\\ia crm\\projet-neurotech\\nouveau depart\\env\\lib\\site-packages (from pandas) (2.9.0.post0)\n",
      "Requirement already satisfied: pytz>=2020.1 in c:\\users\\surface studio\\onedrive\\bureau\\stage neurotech\\ia crm\\projet-neurotech\\nouveau depart\\env\\lib\\site-packages (from pandas) (2025.2)\n",
      "Requirement already satisfied: tzdata>=2022.7 in c:\\users\\surface studio\\onedrive\\bureau\\stage neurotech\\ia crm\\projet-neurotech\\nouveau depart\\env\\lib\\site-packages (from pandas) (2025.2)\n",
      "Requirement already satisfied: six>=1.5 in c:\\users\\surface studio\\onedrive\\bureau\\stage neurotech\\ia crm\\projet-neurotech\\nouveau depart\\env\\lib\\site-packages (from python-dateutil>=2.8.2->pandas) (1.17.0)\n",
      "Note: you may need to restart the kernel to use updated packages.\n"
     ]
    },
    {
     "name": "stderr",
     "output_type": "stream",
     "text": [
      "WARNING: Ignoring invalid distribution ~vicorn (c:\\Users\\SURFACE STUDIO\\OneDrive\\Bureau\\Stage Neurotech\\IA CRM\\projet-neurotech\\nouveau depart\\env\\Lib\\site-packages)\n",
      "WARNING: Ignoring invalid distribution ~vicorn (c:\\Users\\SURFACE STUDIO\\OneDrive\\Bureau\\Stage Neurotech\\IA CRM\\projet-neurotech\\nouveau depart\\env\\Lib\\site-packages)\n",
      "WARNING: Ignoring invalid distribution ~vicorn (c:\\Users\\SURFACE STUDIO\\OneDrive\\Bureau\\Stage Neurotech\\IA CRM\\projet-neurotech\\nouveau depart\\env\\Lib\\site-packages)\n",
      "WARNING: Ignoring invalid distribution ~vicorn (c:\\Users\\SURFACE STUDIO\\OneDrive\\Bureau\\Stage Neurotech\\IA CRM\\projet-neurotech\\nouveau depart\\env\\Lib\\site-packages)\n",
      "\n",
      "[notice] A new release of pip is available: 24.3.1 -> 25.1.1\n",
      "[notice] To update, run: python.exe -m pip install --upgrade pip\n"
     ]
    }
   ],
   "source": [
    "try:\n",
    "    get_ipython().run_line_magic('pip', 'install selenium')\n",
    "    get_ipython().run_line_magic('pip', 'install webdriver-manager')\n",
    "    get_ipython().run_line_magic('pip', 'install pandas')\n",
    "except NameError:\n",
    "    pass"
   ]
  },
  {
   "cell_type": "code",
   "execution_count": 12,
   "id": "6297133e",
   "metadata": {},
   "outputs": [],
   "source": [
    "from selenium import webdriver\n",
    "from selenium.webdriver.common.by import By\n",
    "from selenium.webdriver.chrome.service import Service\n",
    "from selenium.webdriver.chrome.options import Options\n",
    "from webdriver_manager.chrome import ChromeDriverManager\n",
    "from selenium.common.exceptions import TimeoutException\n",
    "from selenium.webdriver.support.ui import WebDriverWait\n",
    "from selenium.webdriver.support import expected_conditions as EC\n",
    "import pandas as pd\n",
    "import time\n",
    "from datetime import datetime\n",
    "import json"
   ]
  },
  {
   "cell_type": "code",
   "execution_count": 13,
   "id": "128ae200",
   "metadata": {},
   "outputs": [],
   "source": [
    "# Configurer Selenium avec ChromeDriver\n",
    "options = Options()\n",
    "options.add_argument('--headless')  # Exécuter en mode sans tête (sans interface graphique)\n",
    "options.add_argument('--disable-gpu')\n",
    "options.add_argument('--no-sandbox')"
   ]
  },
  {
   "cell_type": "code",
   "execution_count": 14,
   "id": "b81d01fa",
   "metadata": {},
   "outputs": [],
   "source": [
    "import os\n"
   ]
  },
  {
   "cell_type": "code",
   "execution_count": 15,
   "id": "0eecd54e",
   "metadata": {},
   "outputs": [
    {
     "name": "stdout",
     "output_type": "stream",
     "text": [
      "Chemin absolu ChromeDriver: c:\\Users\\SURFACE STUDIO\\OneDrive\\Bureau\\Stage Neurotech\\IA CRM\\projet-neurotech\\nouveau depart\\chromedriver-win64\\chromedriver.exe\n"
     ]
    }
   ],
   "source": [
    "# Configuration du driver avec le chemin local\n",
    "chrome_driver_path = os.path.abspath(\"chromedriver-win64/chromedriver.exe\")\n",
    "print(\"Chemin absolu ChromeDriver:\", chrome_driver_path)\n",
    "assert os.path.exists(chrome_driver_path), f\"ChromeDriver introuvable à {chrome_driver_path}\"\n",
    "driver = webdriver.Chrome(service=Service(chrome_driver_path), options=options)"
   ]
  },
  {
   "cell_type": "code",
   "execution_count": 16,
   "id": "f3beba51",
   "metadata": {},
   "outputs": [],
   "source": [
    "# URL des offres \"Prestation de services\"\n",
    "url = \"http://www.marchespublics.sn/index.php?option=com_loffres&task=view&idcat=002&Itemid=104&gestion=2025&statut=1\"\n",
    "driver.get(url)\n"
   ]
  },
  {
   "cell_type": "code",
   "execution_count": 17,
   "id": "08d8d304",
   "metadata": {},
   "outputs": [],
   "source": [
    "# definir l'année courante\n",
    "current_year = datetime.now().year\n",
    "# Trouver le tableau contenant les offres\n",
    "rows = driver.find_elements(By.CSS_SELECTOR, \"table.content_table tbody tr\")[1:]  # pour sauter l'entête\n"
   ]
  },
  {
   "cell_type": "code",
   "execution_count": 18,
   "id": "3943b8a0",
   "metadata": {},
   "outputs": [],
   "source": [
    "data = []\n",
    "\n",
    "for row in rows[1:]:\n",
    "    try:\n",
    "        cols = row.find_elements(By.TAG_NAME, \"td\")\n",
    "        if len(cols) < 6:\n",
    "            continue\n",
    "\n",
    "        # ✅ Tenter de récupérer le lien AVANT de continuer\n",
    "        try:\n",
    "            detail_td = cols[5]\n",
    "            div = detail_td.find_element(By.TAG_NAME, \"div\")\n",
    "            a_tags = div.find_elements(By.TAG_NAME, \"a\")\n",
    "            if not a_tags:\n",
    "                continue  # Pas de lien => ce n'est pas une ligne d'offre\n",
    "            detail_link = a_tags[0].get_attribute(\"href\")\n",
    "        except:\n",
    "            continue  # Évite les erreurs sur les lignes non valides\n",
    "\n",
    "        # ✅ Extraire les autres infos de la ligne\n",
    "        ref = cols[0].text.strip() or \"NA\"\n",
    "        objet = cols[1].text.strip() or \"NA\"\n",
    "        autorite = cols[2].text.strip() or \"NA\"\n",
    "        publie_le = cols[3].text.strip() or \"NA\"\n",
    "        date_limite = cols[4].text.strip() or \"NA\"\n",
    "\n",
    "        # ✅ Ouvrir le lien dans un nouvel onglet\n",
    "        driver.execute_script(\"window.open(arguments[0]);\", detail_link)\n",
    "        driver.switch_to.window(driver.window_handles[1])\n",
    "\n",
    "        try:\n",
    "            table_elem = WebDriverWait(driver, 5).until(\n",
    "                EC.presence_of_element_located((By.CSS_SELECTOR, \"table.no-style\"))\n",
    "            )\n",
    "            td_elem = table_elem.find_element(By.TAG_NAME, \"td\")\n",
    "            detail_text = td_elem.text.strip() or \"NA\"\n",
    "        except Exception as e:\n",
    "            print(f\"⚠️ Détail non trouvé pour {ref} : {e}\")\n",
    "            detail_text = \"NA\"\n",
    "\n",
    "        driver.close()\n",
    "        driver.switch_to.window(driver.window_handles[0])\n",
    "\n",
    "        data.append([ref, objet, autorite, publie_le, date_limite, detail_text])\n",
    "\n",
    "    except Exception as e:\n",
    "        print(f\"❌ Erreur sur l’offre {ref if 'ref' in locals() else 'inconnue'} : {e}\")\n",
    "        continue\n",
    "\n",
    "driver.quit()\n"
   ]
  },
  {
   "cell_type": "code",
   "execution_count": 19,
   "id": "a0ad569e",
   "metadata": {},
   "outputs": [
    {
     "name": "stdout",
     "output_type": "stream",
     "text": [
      "Nombre d'offres récupérées : 6\n"
     ]
    }
   ],
   "source": [
    "print(\"Nombre d'offres récupérées :\", len(data))"
   ]
  },
  {
   "cell_type": "code",
   "execution_count": 9,
   "id": "612363b4",
   "metadata": {},
   "outputs": [
    {
     "data": {
      "text/html": [
       "<div>\n",
       "<style scoped>\n",
       "    .dataframe tbody tr th:only-of-type {\n",
       "        vertical-align: middle;\n",
       "    }\n",
       "\n",
       "    .dataframe tbody tr th {\n",
       "        vertical-align: top;\n",
       "    }\n",
       "\n",
       "    .dataframe thead th {\n",
       "        text-align: right;\n",
       "    }\n",
       "</style>\n",
       "<table border=\"1\" class=\"dataframe\">\n",
       "  <thead>\n",
       "    <tr style=\"text-align: right;\">\n",
       "      <th></th>\n",
       "      <th>Référence</th>\n",
       "      <th>Objet</th>\n",
       "      <th>Autorité</th>\n",
       "      <th>Publié le</th>\n",
       "      <th>Date limite</th>\n",
       "      <th>Détail</th>\n",
       "    </tr>\n",
       "  </thead>\n",
       "  <tbody>\n",
       "    <tr>\n",
       "      <th>0</th>\n",
       "      <td>S_LMDG_160</td>\n",
       "      <td>Révisions des 12 000 heures des moteurs cummin...</td>\n",
       "      <td>Port Autonome de Dakar (PAD)</td>\n",
       "      <td>17/06/2025</td>\n",
       "      <td>16/07/2025</td>\n",
       "      <td>REPUBLIQUE DU SENEGAL  N°…………PAD/DG/SG/LMDG\\n ...</td>\n",
       "    </tr>\n",
       "    <tr>\n",
       "      <th>1</th>\n",
       "      <td>S_TDS_011</td>\n",
       "      <td>Frais d'impression et de communication Marché ...</td>\n",
       "      <td>Société de Télédiffusion du Sénégal (TDS.sa)</td>\n",
       "      <td>18/06/2025</td>\n",
       "      <td>25/06/2025</td>\n",
       "      <td>NA</td>\n",
       "    </tr>\n",
       "    <tr>\n",
       "      <th>2</th>\n",
       "      <td>S_DGPPE_030</td>\n",
       "      <td>Service de couverture de la police d'assurance...</td>\n",
       "      <td>Ministère de l’Economie, du Plan et de la Coop...</td>\n",
       "      <td>18/06/2025</td>\n",
       "      <td>02/07/2025</td>\n",
       "      <td>SereR SENTER\\nSeneggisc\\nMARAHEN RECYCLAGE\\ndé...</td>\n",
       "    </tr>\n",
       "    <tr>\n",
       "      <th>3</th>\n",
       "      <td>S_DAF_038</td>\n",
       "      <td>Sélection d'un prestataire pour l'organisation...</td>\n",
       "      <td>Pharmacie Nationale d'Approisionnement(PNA)</td>\n",
       "      <td>19/06/2025</td>\n",
       "      <td>04/07/2025</td>\n",
       "      <td>Section 0 : Avis de DRPCO – Cas sans pré quali...</td>\n",
       "    </tr>\n",
       "    <tr>\n",
       "      <th>4</th>\n",
       "      <td>S_Dd_075</td>\n",
       "      <td>Marché de clientèle pour la maintenance des di...</td>\n",
       "      <td>Port Autonome de Dakar (PAD)</td>\n",
       "      <td>03/06/2025</td>\n",
       "      <td>09/07/2025</td>\n",
       "      <td>Avis d’Appel d’Offres – Cas sans pré qualifica...</td>\n",
       "    </tr>\n",
       "    <tr>\n",
       "      <th>5</th>\n",
       "      <td>S_ BOCS_015</td>\n",
       "      <td>Sélection d’une compagnie d’assurance pour la ...</td>\n",
       "      <td>Bureau Opérationnel de Coordination et de Suiv...</td>\n",
       "      <td>28/05/2025</td>\n",
       "      <td>26/06/2025</td>\n",
       "      <td>Avis d'Appel d'offres (AA0)\\nBureau Opérationn...</td>\n",
       "    </tr>\n",
       "  </tbody>\n",
       "</table>\n",
       "</div>"
      ],
      "text/plain": [
       "     Référence                                              Objet  \\\n",
       "0   S_LMDG_160  Révisions des 12 000 heures des moteurs cummin...   \n",
       "1    S_TDS_011  Frais d'impression et de communication Marché ...   \n",
       "2  S_DGPPE_030  Service de couverture de la police d'assurance...   \n",
       "3    S_DAF_038  Sélection d'un prestataire pour l'organisation...   \n",
       "4     S_Dd_075  Marché de clientèle pour la maintenance des di...   \n",
       "5  S_ BOCS_015  Sélection d’une compagnie d’assurance pour la ...   \n",
       "\n",
       "                                            Autorité   Publié le Date limite  \\\n",
       "0                       Port Autonome de Dakar (PAD)  17/06/2025  16/07/2025   \n",
       "1       Société de Télédiffusion du Sénégal (TDS.sa)  18/06/2025  25/06/2025   \n",
       "2  Ministère de l’Economie, du Plan et de la Coop...  18/06/2025  02/07/2025   \n",
       "3        Pharmacie Nationale d'Approisionnement(PNA)  19/06/2025  04/07/2025   \n",
       "4                       Port Autonome de Dakar (PAD)  03/06/2025  09/07/2025   \n",
       "5  Bureau Opérationnel de Coordination et de Suiv...  28/05/2025  26/06/2025   \n",
       "\n",
       "                                              Détail  \n",
       "0  REPUBLIQUE DU SENEGAL  N°…………PAD/DG/SG/LMDG\\n ...  \n",
       "1                                                 NA  \n",
       "2  SereR SENTER\\nSeneggisc\\nMARAHEN RECYCLAGE\\ndé...  \n",
       "3  Section 0 : Avis de DRPCO – Cas sans pré quali...  \n",
       "4  Avis d’Appel d’Offres – Cas sans pré qualifica...  \n",
       "5  Avis d'Appel d'offres (AA0)\\nBureau Opérationn...  "
      ]
     },
     "execution_count": 9,
     "metadata": {},
     "output_type": "execute_result"
    }
   ],
   "source": [
    "# le dataframe\n",
    "df = pd.DataFrame(data, columns=[\"Référence\", \"Objet\", \"Autorité\", \"Publié le\", \"Date limite\", \"Détail\"])\n",
    "df"
   ]
  },
  {
   "cell_type": "code",
   "execution_count": 10,
   "id": "1185b702",
   "metadata": {},
   "outputs": [
    {
     "data": {
      "text/plain": [
       "[{'Référence': 'S_LMDG_160',\n",
       "  'Objet': 'Révisions des 12 000 heures des moteurs cummins de la chaloupe BEER',\n",
       "  'Autorité': 'Port Autonome de Dakar (PAD)',\n",
       "  'Publié le': '17/06/2025',\n",
       "  'Date limite': '16/07/2025',\n",
       "  'Détail': \"REPUBLIQUE DU SENEGAL  N°…………PAD/DG/SG/LMDG\\n -------------------  \\nMINISTERE DES PECHES ET Dakar, le..........………........\\nDES INFRASTRUCTURES MARITIMES\\nET PORTUAIRES     \\n -------------------\\nPORT AUTONOME DE DAKAR  \\n 21, Boulevard de la Libération\\nB.P. 3195 DAKAR – SENEGAL\\n& : (221) 849.45.45\\nFAX: : (221) 823.36.06\\nTELEX: 210404 PADKR\\nNINEA : 00 199 86-2-G-3\\nAVIS DE LA DRPCO N° S_LMDG_160\\n==================\\nRévisions des 12000 heures des moteurs des chaloupes « Coumba Castel et Beer »\\n==================\\n1. Le présent avis de la DRPCO fait suite à l’Avis Général de Passation des Marchés paru dans le journal « LE SOLEIL » n°16380 du 09 janvier 2025, publié dans le Portail des Marchés publics du Sénégal et sur le site du Port au www.portdakar.sn.\\n2. Le Port Autonome de Dakar a obtenu, dans le cadre de son budget de fonctionnement 2025 des fonds, pour effectuer des paiements au titre du marché relatif aux Révisions des 12000 heures des moteurs des chaloupes « Coumba Castel et Beer » à travers un avis de DRPCO.\\n3. Le Port Autonome de Dakar sollicite des offres sous pli fermé de la part de candidats éligibles et répondant aux qualifications requises aux Révisions des 12000 heures des moteurs des chaloupes « Coumba Castel et Beer » à travers un avis de DRPCO.\\n4. La passation du Marché sera conduite par DRPCO tel que défini dans le code des marchés publics et dans l’arrêté N° 007118 du 23 mars 2023 relatif aux modalités de mise en œuvre des procédures de demande de renseignements et de prix et ouvert à tous les candidats éligibles.\\n5. Les candidats intéressés peuvent obtenir des informations auprès de la Personne Responsable du Marché (La Liaison Maritime Dakar Gorée) Tél. : 33 849 45 45 poste 79-61, Courriel : cpm@portdakar.sn et prendre connaissance des documents d’Appel d’offres à l’adresse mentionnée ci-après : Cellule de Passation des Marchés du Port Autonome de Dakar – Direction Générale au 1er étage (couloir gauche) 21, boulevard de la Libération, Tél. : 33 849 45 45 poste 41-57, fax : 33 822 24 63, les jours ouvrables (du Lundi au Vendredi) :\\n• Lundi- Jeudi : 7 heures 30 à 13 heures 30 et de 14h à 16h30 mn ;\\n• Vendredi : 7 heures 30 à 13 heures 30mn\\nNB : Un exemplaire de la DRPCO est disponible et peut être consulté sur place par les candidats qui le souhaitent.\\n6. Les exigences en matière de qualifications sont :\\n6.1 Capacité Financière\\nLe Candidat doit fournir la preuve écrite qu’il satisfait à l’exigence ci-après :\\n• Disposer d’une ligne de crédits délivrée par une institution bancaire agréée par le Ministère des Finances et du Budget, d’un montant de 10 000 000 F CFA ».\\n• Produire des états financiers des trois (03) dernières années (2022, 2023 et 2024) certifiés par un expert ou cabinet d’expertise comptable agréé par l’Ordre National des Experts Comptables et Comptables Agréés du Sénégal (ONECCA) ou organismes assimilés. Ou s’il s’agit d’une entreprise communautaire des états financiers certifiés par un comptable. Ces états financiers devront refléter une situation financière équilibrée du candidat.\\n6.2 Capacité Technique et Expérience\\nLe Candidat doit prouver, documentation à l’appui qu’il satisfait aux exigences de capacité technique ci-après :\\n• Avoir exécuté un (01) marché de révision ou de réparation de moteurs de la gamme de moteurs CUMMINS au cours des cinq (03) dernières années (2022, 2023, 2024) Fournir à cet effet au moins une (01) attestation de service fait ou de bonne exécution ;\\n• Le minimum requis pour le personnel :\\no deux (2) techniciens diplômé de BAC + 3 ans en mécanique-diesel de plus de cinq (05) ans d’expérience avérée en réparation de moteurs cummins KTA 19M et avoir participé au moins à un (01) marché de révision ou de réparation de moteurs CUMMINS au cours des trois (3) dernières années (2022, 2023 et 2024) ;\\no  d’un (01) aide mécanicien de niveau BAC +2 ans en mécanique diésel 19M et avoir participé au moins à un (01) marché de révision ou de réparation de moteurs CUMMINS au cours des trois (3) dernières années (2022, 2023 et 2024),\\nNB : joindre leurs cv et copies légalisées de diplôme d’attestation de qualification en mécanique diésel.\\n• Disposer de l’outillage spécifique CUMMINS ci-dessous pour les moteurs de la sérié KT.\\no 02 caisses à outil king tony\\no 02 clés dynamométrique\\no 01 valise de réglage de injecteurs et culbuteur en inches\\no 01 valise de mesure de pression\\no 01 arrache chemise\\no 01 outillage de pose segment\\no 01 pompe de démontage des bagues arbre à came\\no 01 collier segment\\no 01 outil de pose chemise\\no 01 outil pour sortir les pipes d'eau\\no 01 Outil de calibre de profondeur\\no 03 Palans\\n7. Les candidats intéressés peuvent obtenir un dossier d’appel d’offres complet en s’adressant à la Caisse Principale de la Direction Financière et Comptable (DFC), sise à l’ex Cosec, contre un paiement non remboursable de vingt-cinq mille (25 000) en FCFA, les jours ouvrables (du Lundi au Vendredi) :\\n• Lundi- Jeudi : 7 heures 30 à 13 heures 30 et de 14h à 16h30 mn ;\\n• Vendredi : 7 heures 30 à 13 heures 30mn\\nNB. La méthode de paiement sera en espèces.\\n8. Les offres devront être soumises au plus tard le 16 juillet 2025 à 9h 30mn à la salle du Conseil d’Administration de la Direction Générale du Port, 1er étage sise au 21, boulevard de la Libération où les offres seront ouvertes en présence des représentants des candidats le même jour et à la même heure à l’adresse indiquée ci-dessus. Les offres remises en retard ne seront pas acceptées.\\nUne garantie de soumission n’est pas requise.\\nLes offres devront être valables pendant un délai minimum de 90 jours, à compter de la date limite de dépôt des offres, pendant lequel les candidats restent engagés par leurs offres.\\nUne visite des sites est prévue le 1er juillet 2025 et les candidats sont convoqués à la Liaison Maritime Dakar Gorée à 10 h 00 mn.\\nCette visite est groupée et recommandée à chaque candidat pour lui permettre de mieux apprécier les prestations à effectuer. (Une attestation de visite est délivrée par la LMDG).\\nLe Directeur Général\\nWaly DIOUF BODIANG\"},\n",
       " {'Référence': 'S_TDS_011',\n",
       "  'Objet': \"Frais d'impression et de communication Marché à commande\",\n",
       "  'Autorité': 'Société de Télédiffusion du Sénégal (TDS.sa)',\n",
       "  'Publié le': '18/06/2025',\n",
       "  'Date limite': '25/06/2025',\n",
       "  'Détail': 'NA'},\n",
       " {'Référence': 'S_DGPPE_030',\n",
       "  'Objet': \"Service de couverture de la police d'assurance maladie du personnel de la DGPPE.\",\n",
       "  'Autorité': 'Ministère de l’Economie, du Plan et de la Coopération',\n",
       "  'Publié le': '18/06/2025',\n",
       "  'Date limite': '02/07/2025',\n",
       "  'Détail': \"SereR SENTER\\nSeneggisc\\nMARAHEN RECYCLAGE\\ndéchets\\nJOURNÉE: PÔLESCollectez et échangez vos\\nplastiques contre des titres de transport\\nTER ou des dons à une des écoles\\nanez votres\\nciblées, de votre choix.\\nVERS DES VILLES NOUVELLES,\\nI N T E L L I G E N T E S E T I N C L U S I V E S\\nLeçons apprises des péles urbains de Dial\\nsadio et du Lac Pas\\nDates: Gares de dépöt: Du 16 au 29 juin Colobane, Pikine, Thiaroye, KMF, Rufisque et Bargny\\nle soleil\\n55° ANNÉE • N°16508 • ISSN 0850/0704 • 200 F.CFA\\nIMPLICATION DES MINICARS «CHEIKHOU CHÉRIFOU» DANS LES ACCIDENTS DE LA ROUTE\\nLes nouvelles\\nc a i s s e s d e l a m o r t\\n• Ces nouveaux types de véhicules de transport sont impliqués dans cinq des\\nÉDUCATION, DIGNITE, PROTECTION\\nsept derniers accidents mortels enregistrés au Sénégal.\\nEn cause, la modification du nombre de sièges (de 15 à 19 places) et l'excès de vitesse\\nLe combat de l a\\nPAGES 4 ET 5\\nPremière dame Marie\\nKhone Faye pour\\nles albinos PAGE 6\\nHASSAN ASGARI, AMBASSADEUR D'IRAN AU\\nSÉNÉGAL SUR L'AGRESSION ISRAÉLIENNE\\n«Un précédent dangereux\\npour l'ordre international »\\nPUBLIREPORTAGE: ORIENTATION ET AVENIR DES ÉLÈVES CANDIDATS AU BACCALAURÉAT\\nUniverSalon 2025, un succès retentissant\\nAU CENTRE DU JOURNAL\\nDIRECTION GENERALE\\n2 0 2 5\\nP É R I O D E D E R É G U L A R I S AT I O N\\nE X C E P T I O N N E L L E\\nPOUR LES PROPRIÉTAIRES, LES HÉRITIERS ET LES ASSOCIÉS DE\\nSCI QUI N'ONT JAMAIS DÉCLARÉ LEURS REVENUS LOCATIFS\\nL e défaut de déclaration expose à des sanctions allant jusqu'à la saisie de vos biens immobiliers.\\nS u i v e z - h o u s s u r : f - d g i d e n\\n7 8 8 3 1 1 1 1 1 / 7 8 8 5 1 1 1 1 1\\n3 0 w w w . l e s o l e i l . s n f lesoleilsnofficiel\\nPUBLICITÉ\\nLeSoleilontine © Le SOLEIL SN\\nLE SOLEIL - LUNDI 16 JUIN 2025\\nAvis d'Appel d'offres par Demande de Renseignements et de Prix à compétition ouverte\\nAvis d'Appel d'Offres - Cas sans pré qualification\\n= = = = = = = = = = = = = = = = » »\\nMinistère de l'Economie, du Plan et de la Coopération\\nDirection générale de la Planification et des Politiques Economiques\\nDirection d e l'Administration e t du Personnel\\nMarché de clientèle par Demande de Renseignements et de Prix à compétition ouverte\\nN°S_DGPPE_030,\\nPour la Couverture de la police d'assurance maladie du personnel de la DGPPE\\n11. Cet Avis d'appel d'offres national en Demande de\\nRenseignements et de Prix à compétition ouverte fait\\nsuite à l'Avis Général de Passation des Marchés paru\\ndans journal le « SOLEIL » N° 16 381 du 10 janvier 2025.\\nJustifier d'une couverture de réassurance à 100% pour\\nles branches concernant les risques objet de la présente\\nDemande de Renseignements et de Prix à compétition\\nouverte et produire, à cet effet, deux attestations au\\nmoins de réassureurs jointes de leur quote-part et d'un\\ntableau synoptique du plan de réassurances des années\\n2023 et 2024.\\n• une Pharmacie,\\n• un Hôpital public.\\n• un laboratoire d'analyses et de radiographies dans\\nle réseau régional serait un plus.\\n2. La Direction de l'Administration et du Personnel de\\nla DGPPE (DAP/DGPPE) agissant au nom et pour le\\ncompte du Ministère de l'Economie, du Plan et de la\\nCoopération comme maître d'ouvrage délégué,\\nobtenu de l'Etat du Sénégal des crédits dans le cadre\\ndu Budget de fonctionnement de l'Etat (BF) au titre de\\nla Loi des Finances pour la gestion 2025, et a l'intention\\nd'utiliser une partie de ces crédits pour effectuer des\\np a i e m e n t s au titre du marché de\\nclientèle «N°\\nS_DGPPE_030 » à passer pour assurer « les services de\\ncouverture de la police d'assurance du personnel de la\\nDGPPE».\\nB-Capacités Financières\\n/ Justifier l'existence d'un service maladie comportant\\nu n p e r s o n n e l q u a l i f e a v e c a u m o i n s u n m e d e c i n c o n s e i l\\n(copie organigramme avec les CV des Médecins au\\nmoins) pour exécuter le marché ;\\nLe candidat doit être une compagnie d'assurance\\ndisposant d'un agrément et remplissent les conditions\\nfinancières ci-après, au vue de la règlementation :\\n/ Justifier, par une déclaration sur l'honneur, la\\ncollaboration avec un assisteur ayant la capacité\\nd'organiser et de prendre en charge l'évacuation\\nsanitaire de malades vers une structure sanitaire à\\nDisposer de fonds propres suffisants et conformes à\\nl'étranger adaptée au traitement de leur affection.\\nla règlementation en vigueur (article 337-1 et suivants\\ndu code CIMA) au moment de l'appel d'offres;\\n3. La Direction de l'Administration et du personnel de\\nla DGPPE (DAP/DGPPE) sollicite des offres sous pli\\nfermé de la part de candidats éligibles et répondant aux\\nqualifications requises pour « les services de couverture\\nde la police d'assurance du personnel de la DGPPE », en\\nun lot unique.\\nA v o i r réalisé, pour la branche d'assurance maladie,\\nun chiffre d'affaires moyen annuel, durant les trois\\ndernières années, égal au moins à trente-six millions\\nfrancs (36 000 000) FCFA;\\nD-Autres exigences de qualifications des candidats :\\nLe candidat doit produire des attestations justifiant qu'il\\nest en règle avec la caisse de Sécurité Sociale, IPRES,\\nPinspection régionale du Travail, PARCOP Ex ARMP,\\nl'administration fiscale.\\n4. La passation du Marché sera conduite par Appel\\nd'offres national en Demande de Renseignements et de\\nL a condition ci-dessus doit être attesté par les états\\nfinanciers, (les trois (03) derniers exercices précédents\\nl'appel d'offres), certifiés par un expert-comptable\\nagréé par l'ONECCA ou un organisme assimilé.\\nLe candidat doit déclarer sur l'honneur qu'il n'est pas\\nen faillite personnelle et ne fait pas l'objet d'une\\nprocédure de liquidation de biens.\\n7. Les\\ncandidats intéressés peuvent\\nobtenir\\nPrix à compétition ouverte tel que défini dans le Code\\ndes Marchés publics, et sera\\nouverte à tous les\\ngratuitement dossier d e Demande de\\nC- Expérience technique du candidat : Renseignements et de Prix à compétition ouverte\\ncandidats éligibles.\\ncomplet en formulant une demande écrite adressée à\\nLe candidat doit avoir une expérience en matière de Monsieur le Directeur de Administration et du\\n5-Les candidats intéressés peuvent obtenir des couverture maladie durant les trois (3) dernières: Personnel de la DGPPE (DAP/DGPPE) établi au 64, Rue\\ninformations auprès de la Direction de l'Administration années (de 2022 à 2024): Carnot X Docteur Théze, Immeuble DGPPE 10eme\\net du Personnel de la DGPPE (DAP/DGPPE) notamment étage. Le document de Demande de Renseignements\\nauprès de Monsieur Cheikh DIOUM Tel. : 77 640 26 89 v Avoir exécuté avec satisfaction, durant les trois (3) et de Prix à compétition ouverte sera remis sur place au\\nmail : xehjum@yahoo.fr et prendre connaissance des dernières années (de 2022 à 2024), au moins un (01)\\ndemandeur.\\ndocuments de la Demande de Renseignements et de Prix contrat d'assurance dont la prime annuelle moyenne\\nà compétition ouverte à l'adresse mentionnée ci-après est supérieure ou égale à trente millions (36 000 000)\\n: 64, Rue Carnot X Docteur Théze, Immeuble DGPPE\\nFCFA par contrat.\\nogème étage:\\n• D u l u n d i a u J e u d i d e 0 8 h e u r e s a 1 3 h e u r e s ( m a t i n )\\n/ Ces contrats devront être justifiés\\n8. Les offres seront soumises à l'adresse ci-après : 64\\nRue Carnot X Docteur Théze, Immeuble DGPPE 10eme\\nétage, au plus tard le mercredi 02 juillet 2025 à 10\\nheures 00 minutes.\\net de 14 heures à 17 heures (après-midi); attestations de services faits dûment signés ;\\n• Le vendredi de 08 heures à 13 heures (matin) et de\\n15 heures à 18 heures (après-midi) ;\\n9. Les offres seront ouvertes par la Commission des\\nP o u r la maladie groupe, ce contrat d'assurance doit marchés du Ministère de l'Economie, du Plan et de la\\nconcerner une population annuelle d'environ cent Coopération, le mercredi 02 juillet 2025 à 10 heures 30\\n6. Les exigences en matière de qualifications sont : soixante (160) personnes au cours des trois dernières minutes en présence des représentants des candidats\\nannées connues; avec une valeur minimale de trente . présents à l'adresse ci-après : Salle du Ministère de\\nA- Capacités juridiques et techniques: millions (36 000 000) F CFA; l'Economie, du Plan et de la Coopération - Rue René\\nNDIAYE X Garde - Bâtiment central MEPC - RDC.\\nLe candidat doit être une compagnie d'assurance Justifier d'une bonne collaboration, au cours des trois\\ni disposant d'un agrément et doit remplir les conditions dernières années (2022, 2023 et 2024), avec des Les offres doivent comprendre, sous peine de rejet, une\\ntechniques ci-après, au vue de la règlementation: établissements hospitaliers et de laboratoires situés au\\ngarantie\\nde soumission valable\\n28 jours après\\nSénégal; cette collaboration devra être certifiée par la l'expiration de la validité des offres d'un montant de six\\nProduire: la copie de l'agrément de l'autorité fourniture d'attestations dûment signées;\\ncent mille francs (600 000) francs CFA.\\ncompétente en matière d'assurances;\\n/ Justifier d'un réseau de prestataires dans toutes les Les offres devront être valables pendant un délai\\nr Justifier d'une couverture\\ndes\\nengagements\\ngrandes villes du Sénégal (liste et adresses). Ce réseau minimum de 90 jours à compter de la date limite de.\\nréglementés et d'une marge de solvabilité suffisante au doit comporter dans chaque capitale régionale au dépôt des offres, pendant lequel les candidats restent\\nregard du code CIMA; m o i n s : engagés par leurs offres.\\n/ Produire, pour l'exercice précédent l'appel d'offres,\\n• un Généraliste,\\nLes offres remises en retard ne seront pas acceptées.\\nannée 2024, un certificat de solvabilité délivré par la\\n• un Gynécologue,\\nDirection des Assurances du ministère en charge des\\n• un Pédiatre,\\nassurances;\\n• un Dentiste,\\nL e D i r e c t e u r d e P A d m i n i s t r a t i o n e t d u P e r s o n n e l\"},\n",
       " {'Référence': 'S_DAF_038',\n",
       "  'Objet': \"Sélection d'un prestataire pour l'organisation d'ateliers, séminaires et sessions du CA à la SEN-PNA\",\n",
       "  'Autorité': \"Pharmacie Nationale d'Approisionnement(PNA)\",\n",
       "  'Publié le': '19/06/2025',\n",
       "  'Date limite': '04/07/2025',\n",
       "  'Détail': 'Section 0 : Avis de DRPCO – Cas sans pré qualificatio\\nRÉPUBLIQUE DU SÉNÉGAL\\nUn Peuple - un But - Une Foi\\n------------\\nMINISTÈRE DE LA SANTÉ ET DE L’ACTION SOCIALE\\nSEN-PHARMACIE NATIONALE D’APPROVISIONNEMENT\\n\\nSélection d’un Prestataire pour l’organisation d’ateliers, séminaires et sessions du C.A à la SEN-PNA référencée DRPCO « N°: S_DAF_038/2025 »\\n1. Cet Avis d’Appel d’offres fait suite à l’Avis Général de Passation des Marchés paru dans le quotidien d’informations générales « Le Soleil » du 14 janvier 2025.\\n2. La Sen-Pharmacie Nationale d’Approvisionnement a obtenu dans le cadre de son budget de fonctionnement 2025 des fonds, pour effectuer des paiements au titre du marché référencé «S_DAF_038/2025» portant Sélection d’un Prestataire pour l’organisation d’ateliers, séminaires et sessions du C.A à la SEN-PNA.\\n3. La Sen-Pharmacie Nationale d’Approvisionnement sollicite des offres sous plis fermé de la part des candidats éligibles et répondant aux qualifications requises pour assurer le Service de prestation pour l’organisation d’ateliers, séminaires et sessions du C.A en un (01) lot unique : Sélection d’un Prestataire pour l’organisation d’ateliers, séminaires et sessions du C.A à la SEN-PNA.\\n4. La passation du Marché sera conduite par demande de renseignements et de prix à compétition ouverte tel que défini dans le Code des Marchés publics, et ouvert à tous les candidats éligibles.\\n5. Les candidats intéressés peuvent obtenir les informations et peuvent prendre connaissance des documents du cahier des charges auprès de la Cellule de Passation des Marchés, Route du Service Géographique Dakar Hann, de 8 heures à 17 heures ou par voie électronique sur cpm@pna.sn et/ou andao@sen-pna.sn\\n6. Les exigences en matière de qualification sont :\\nLe candidat doit fournir la preuve écrite qu’il satisfait aux exigences ci-après :\\n- Des C.V. complets montrant que le personnel de la restauration a subi des études et stages pratiques en la matière (Certificat d’Aptitude Professionnel en restauration ou cuisine) ;\\n- Copies des documents originaux de constitution en société ou le statut légal de l’entreprise du candidat ;\\n- Disposer d’une ligne de crédit d’un montant de cinq (05) millions Francs CFA.\\nLe candidat doit prouver, documentation à l’appui, qu’il satisfait aux exigences de capacités techniques ci –après :\\n- Avoir une expérience avérée en gestion des restaurants\\n- Avoir une bonne connaissance de la valeur nutritive des aliments\\n- Disposer des moyens matériels suffisants (y joindre liste)\\n- Avoir un véhicule de liaison adéquat avec carte grise ou une promesse de location, preuve documentée ;\\n- Disposer d’un personnel qualifié et disponible connaissant le métier de traiteur ;\\n- Donner des preuves des différents marchés obtenus et exécutés, au moins un (01), à la suite d’appels à la concurrence au cours des trois (03) dernières années (2022, 2023 et 2024),\\n- Un agrément du Ministère en charge de la santé et/ou de l’hygiène publique pour le respect des conditions d’hygiène propre à la restauration.\\n7. Les candidats intéressés peuvent obtenir un dossier complet en s’adressant à la Sen-Pharmacie Nationale d’Approvisionnement (Agence Comptable) sise Route du Service Géographique Dakar Hann, BP 4015, contre un paiement non remboursable de vingt-cinq mille (25 000) Francs CFA.\\n8. La méthode de paiement sera en espèces.\\nLes candidats intéressés pourront consulter sur place un exemplaire complet du dossier.\\nLes offres devront être adressées au Directeur Général de la SEN-PNA, Route du Service Géographique à Hann, au plus tard le vendredi 04 juillet 2025 à 10 heures. Les offres remises en retard ne seront pas acceptées. Les offres seront ouvertes en présence des représentants des candidats présents à la salle Dr Daouda DIOP de la SEN-PNA le vendredi 04 juillet 2025 à 10 heures.\\nLes offres doivent comprendre une garantie de soumission d’un montant de :\\n• Lot unique : deux cent mille (200 000) Francs CFA\\nLa garantie de soumission doit être fournie par un organisme financier agrée par le Ministère des Finances et du Budget (MFB) et être valide pour une durée de vingt-huit (28) jours à compter de l’expiration de la durée de validation de l’offre. Les offres devront demeurer valides pendant une durée de quatre-vingt-dix (90) jours à compter de la date d’ouverture des offres.\\n\\nLe Directeur Général\\nDr Seydou DIALLO'},\n",
       " {'Référence': 'S_Dd_075',\n",
       "  'Objet': 'Marché de clientèle pour la maintenance des dispositifs de sécurité physiques avec des pièces de rechange (Marché de clientèle)',\n",
       "  'Autorité': 'Port Autonome de Dakar (PAD)',\n",
       "  'Publié le': '03/06/2025',\n",
       "  'Date limite': '09/07/2025',\n",
       "  'Détail': 'Avis d’Appel d’Offres – Cas sans pré qualification\\nAvis d’Appel d’Offres Ouvert N° : S_Dd_075\\n==================\\nPORT AUTONOME DE DAKAR\\nMarché de clientèle pour la maintenance des dispositifs\\nde Sécurité Physique avec des pièces de rechange\\n==================\\n1. Le présent avis d’appel d’offres fait suite à l’Avis Général de Passation des Marchés paru dans le journal « LE SOLEIL » du 09 janvier 2025 et publié dans le Portail des Marchés publics du Sénégal ainsi que sur le site du Port au www.portdakar.sn.\\n1. Le Port Autonome de Dakar a obtenu dans le cadre de son budget de fonctionnement 2025 des fonds nécessaires afin de financer le marché de clientèle pour la maintenance des dispositifs de Sécurité Physique avec des pièces de rechange.\\n2. Le Port Autonome de Dakar sollicite des offres sous pli fermé de la part de candidats éligibles et répondant aux qualifications requises pour le marché de clientèle pour la maintenance des dispositifs de Sécurité Physique avec des pièces de rechange.\\n3. La passation du Marché sera conduite par appel d’offres ouvert tel que défini dans le décret n°2022-2295 du 28 décembre 2022 portant Code des Marchés publics, et ouvert à tous les candidats éligibles.\\n4. Les candidats intéressés peuvent obtenir des informations auprès de la Direction Digitale tél. : 33 849 45 46/ 33823 15 40 ou 33 849 45 45 poste 41-57 ; Courriel : cpm@portdakar.sn. Il est possible de prendre connaissance des documents d’Appel d’offres à l’adresse mentionnée ci-après : Cellule de Passation des Marchés du Port Autonome de Dakar – Direction Générale au 1er étage (couloir gauche) 21, boulevard de la Libération, Tél. : 33 849 45 45 poste 41-57 ; fax : 33 822 24 63 ; les jours ouvrables :\\n• Lundi au Jeudi : de 7 heures 30 à 13 heures 30 et de 14h à 16h30 mn ;\\n• Vendredi : de 7 heures 30 à 13 heures 30mn\\nNB : Un exemplaire du Dossier d’Appel d’Offres sera disponible pour être consulté gratuitement sur place pour les candidats qui le souhaitent.\\n5. Les exigences en matière de qualification sont :\\n6.1 Capacité financière\\nLe Candidat doit fournir la preuve écrite qu’il satisfait aux exigences ci-après :\\n\\uf0fc Produire les états financiers des trois (03) dernières années (2021, 2022 et 2023) certifiés par un expert ou cabinet d’expertise comptable agréé par l’Ordre National des Experts Comptables et Comptables Agrées du Sénégal (ONECCA) ou organismes assimilés. Ou s’il s’agit d’une entreprise communautaire des états financiers certifiés par un comptable ou un commissaire aux comptes agrée par un organe habilité de son pays d’origine. Ces états financiers devront refléter une situation financière équilibrée du candidat ;\\n\\uf0fc Disposer d’une ligne de crédits délivrée par une institution bancaire agréée par le Ministère des Finances et du Budget, d’un montant de quatre millions (4 000 000) F CFA.\\n6.2 Capacités techniques\\nLe Candidat doit prouver, documentation à l’appui, qu’il satisfait aux exigences d’expérience ci-après :\\n\\uf0fc Être intégrateur dûment autorisé par le constructeur des équipements existants à maintenir. Joindre à cet effet l’autorisation au nom de votre structure. Le PAD se réserve le droit de faire les vérifications nécessaires auprès des constructeurs et éditeurs.\\n• Avoir exécuté au cours des trois (03) dernières années (2022, 2023 et 2024) un (01) contrat de maintenance similaire. Fournir à cet effet une attestation de bonne exécution. Les bons de commande, fiches de projet, ou copies de marchés ne sont pas acceptés.\\n• Avoir au minimum six (06) ressources compétentes en mesure de répondre à toutes les exigences techniques décrites dans cet appel d’offres :\\n\\uf02d Un ingénieur de niveau BAC+4/5 ans certifié sur la marque des équipements existants à maintenir, et justifiant, d’au moins de cinq (05) années d’expérience sur la maintenance des équipements et systèmes de contrôle d’accès et de vidéosurveillance ;\\n\\uf02d Un ingénieur de niveau BAC+4/5 ans certifié sur la marque des équipements existants à maintenir, et justifiant, d’au moins de cinq (05) années d’expérience sur la maintenance des équipements et systèmes de sécurité incendie ;\\n\\uf02d Un technicien de niveau BAC+2 ans formé sur la marque des équipements existants à maintenir, et justifiant, d’au moins de trois (03) années d’expérience sur la maintenance des équipements de contrôle d’accès et de vidéosurveillance ;\\n\\uf02d Un technicien de niveau BAC+2 ans formé sur la marque des équipements existants à maintenir, et justifiant, d’au moins de trois (03) années d’expérience sur la maintenance des équipements et systèmes de sécurité incendie.\\nNB : Le personnel clé proposé devra s’engager sur leur disponibilité pendant l’exécution des prestations. A ce titre chaque curriculum vitae doit être signé et visé par le représentant de l’entreprise et son titulaire. Les cartes d’identité, les copies légalisées des diplômes, les attestations de travail, les certifications à jour ou attestations de formation doivent obligatoirement être jointes.\\n6. Les candidats intéressés peuvent obtenir un dossier d’appel d’offres complet en s’adressant à la Caisse Centrale de la Direction Financière et Comptable (DFC), sise à l’immeuble Ex COSEC, rue des Messageries, zone sud du Port, contre un paiement non remboursable de vingt-cinq mille (25 000) FCFA les jours ouvrables (du Lundi au Vendredi) :\\n• Lundi au Jeudi : de 7 heures 30 à 13 heures 30 et de 14h à 16h30 mn ;\\n• Vendredi : de 7 heures 30 à 13 heures 30mn\\nNB. La méthode de paiement sera en espèces.\\n7. Les offres seront remises au plus tard le 09 juillet 2025 à 9h 30mn à la salle du Conseil d’Administration de la Direction Générale du Port, 1er étage sise au 21, boulevard de la Libération où les offres seront ouvertes en présence des représentants des candidats le même jour et à la même heure à l’adresse indiquée ci-dessus. Les offres remises en retard ne seront pas acceptées.\\nAucune garantie de soumission n’est exigée.\\nLes offres devront être valables pendant un délai minimum de 90 jours à compter de la date limite de dépôt des offres, pendant lequel les candidats restent engagés par leurs offres.\\nUne visite de sites est prévue le 17 juin 2025 à 10h 00 mn et les candidats convoqués à la Direction Générale du PAD, 21 boulevard de la Libération.\\nUn certificat de visite sera délivré à l’issue et fera partie intégrante de l’offre. Au-delà de la date prévue pour la visite, il sera plus possible de procéder à une autre visite des lieux.\\nNB : Une visite des sites est prévue. Elle est obligatoire et éliminatoire et aucune demande de dérogation ne sera accordée.\\nLE DIRECTEUR GENERAL\\nWaly DIOUF BADIANG'},\n",
       " {'Référence': 'S_ BOCS_015',\n",
       "  'Objet': 'Sélection d’une compagnie d’assurance pour la couverture santé-maladie du personnel du BOCS',\n",
       "  'Autorité': 'Bureau Opérationnel de Coordination et de Suivi des Projets et Programmes Prioritaires (BOCS)',\n",
       "  'Publié le': '28/05/2025',\n",
       "  'Date limite': '26/06/2025',\n",
       "  'Détail': \"Avis d'Appel d'offres (AA0)\\nBureau Opérationnel de Coordination et de Suivi des Projets et Programmes Prioritaires (BOCS)\\nAvis d'Appel d'Offres n°\\nCet Avis d'appel d'offres fait suite à l'Avis Général de Passation des Marchés paru dans [NUM_PUB] du [DATE_PUB].\\nLe Autorité de Régulation des Marchés Publics [dispose | attend] de(s) [BAILLEURS] , afin de financer [insérer le nom du projet ou du programme, budget], et à l'intention d'utiliser une partie de ces fonds pour effectuer des paiements au titre du Marché Réalisation de l’audit de la passation des marchés de différentes autorités contractantes pour les gestions 2008 et 2009 .\\nLe Autorité de Régulation des Marchés Publics sollicite des offres de la part de candidats éligibles et répondant aux qualifications requises pour réaliser les travaux suivants : [insérer un brève description des travaux].\\nLa passation du Marché sera conduite par Appel d‘offres ouvert tel que défini dans le Code des Marchés publics, et ouvert à tous les candidats éligibles.\\nLes candidats intéressés peuvent obtenir des informations auprès de Autorité de Régulation des Marchés Publics ; [NOM_RESP] et prendre connaissance des documents d'Appel d'offres à l'adresse mentionnée ci-après de [Saisir l'heure du début et l'heure limite ] .\\nLes exigences en matière de qualifications sont : [insérer la liste des conditions d'ordre technique, financier, légal et autre(s)]. Voir le document d'Appel d'offres pour les informations détaillées.\\nLes candidats intéressés peuvent obtenir un dossier d'Appel d'offres complet en formulant une demande écrite à l'adresse mentionnée ci-après contre un paiement non remboursable de . Le document d'Appel d'offres sera adressé par [insérer le mode d'acheminement].\\nLes offres devront être soumises à au plus tard le .\\nles offres seront ouvertes en présence des représentants des candidats présents à le à .\\nles offres doivent comprendre une garantie de soumission, d'un montant de [insérer le montant en CFA ou le montant équivalent dans une monnaie librement convertible] valable pendant un délai de [indiquer la durée minimum de validité de la garantie] à compter de la date limite de dépôt des offres.\\nles offres devront être valables pendant un délai minimum de [indiquer le délai minimum pendant lequel les candidats restent engagés par leurs offres].\"}]"
      ]
     },
     "execution_count": 10,
     "metadata": {},
     "output_type": "execute_result"
    }
   ],
   "source": [
    "offres_liste = df.to_dict(orient='records')\n",
    "offres_liste"
   ]
  },
  {
   "cell_type": "code",
   "execution_count": 23,
   "id": "a9e0f61f",
   "metadata": {},
   "outputs": [
    {
     "data": {
      "text/plain": [
       "{'Référence': 'S_Dd_075',\n",
       " 'Objet': 'Marché de clientèle pour la maintenance des dispositifs de sécurité physiques avec des pièces de rechange (Marché de clientèle)',\n",
       " 'Autorité': 'Port Autonome de Dakar (PAD)',\n",
       " 'Publié le': '03/06/2025',\n",
       " 'Date limite': '09/07/2025',\n",
       " 'Détail': 'Avis d’Appel d’Offres – Cas sans pré qualification\\nAvis d’Appel d’Offres Ouvert N° : S_Dd_075\\n==================\\nPORT AUTONOME DE DAKAR\\nMarché de clientèle pour la maintenance des dispositifs\\nde Sécurité Physique avec des pièces de rechange\\n==================\\n1. Le présent avis d’appel d’offres fait suite à l’Avis Général de Passation des Marchés paru dans le journal « LE SOLEIL » du 09 janvier 2025 et publié dans le Portail des Marchés publics du Sénégal ainsi que sur le site du Port au www.portdakar.sn.\\n1. Le Port Autonome de Dakar a obtenu dans le cadre de son budget de fonctionnement 2025 des fonds nécessaires afin de financer le marché de clientèle pour la maintenance des dispositifs de Sécurité Physique avec des pièces de rechange.\\n2. Le Port Autonome de Dakar sollicite des offres sous pli fermé de la part de candidats éligibles et répondant aux qualifications requises pour le marché de clientèle pour la maintenance des dispositifs de Sécurité Physique avec des pièces de rechange.\\n3. La passation du Marché sera conduite par appel d’offres ouvert tel que défini dans le décret n°2022-2295 du 28 décembre 2022 portant Code des Marchés publics, et ouvert à tous les candidats éligibles.\\n4. Les candidats intéressés peuvent obtenir des informations auprès de la Direction Digitale tél. : 33 849 45 46/ 33823 15 40 ou 33 849 45 45 poste 41-57 ; Courriel : cpm@portdakar.sn. Il est possible de prendre connaissance des documents d’Appel d’offres à l’adresse mentionnée ci-après : Cellule de Passation des Marchés du Port Autonome de Dakar – Direction Générale au 1er étage (couloir gauche) 21, boulevard de la Libération, Tél. : 33 849 45 45 poste 41-57 ; fax : 33 822 24 63 ; les jours ouvrables :\\n• Lundi au Jeudi : de 7 heures 30 à 13 heures 30 et de 14h à 16h30 mn ;\\n• Vendredi : de 7 heures 30 à 13 heures 30mn\\nNB : Un exemplaire du Dossier d’Appel d’Offres sera disponible pour être consulté gratuitement sur place pour les candidats qui le souhaitent.\\n5. Les exigences en matière de qualification sont :\\n6.1 Capacité financière\\nLe Candidat doit fournir la preuve écrite qu’il satisfait aux exigences ci-après :\\n\\uf0fc Produire les états financiers des trois (03) dernières années (2021, 2022 et 2023) certifiés par un expert ou cabinet d’expertise comptable agréé par l’Ordre National des Experts Comptables et Comptables Agrées du Sénégal (ONECCA) ou organismes assimilés. Ou s’il s’agit d’une entreprise communautaire des états financiers certifiés par un comptable ou un commissaire aux comptes agrée par un organe habilité de son pays d’origine. Ces états financiers devront refléter une situation financière équilibrée du candidat ;\\n\\uf0fc Disposer d’une ligne de crédits délivrée par une institution bancaire agréée par le Ministère des Finances et du Budget, d’un montant de quatre millions (4 000 000) F CFA.\\n6.2 Capacités techniques\\nLe Candidat doit prouver, documentation à l’appui, qu’il satisfait aux exigences d’expérience ci-après :\\n\\uf0fc Être intégrateur dûment autorisé par le constructeur des équipements existants à maintenir. Joindre à cet effet l’autorisation au nom de votre structure. Le PAD se réserve le droit de faire les vérifications nécessaires auprès des constructeurs et éditeurs.\\n• Avoir exécuté au cours des trois (03) dernières années (2022, 2023 et 2024) un (01) contrat de maintenance similaire. Fournir à cet effet une attestation de bonne exécution. Les bons de commande, fiches de projet, ou copies de marchés ne sont pas acceptés.\\n• Avoir au minimum six (06) ressources compétentes en mesure de répondre à toutes les exigences techniques décrites dans cet appel d’offres :\\n\\uf02d Un ingénieur de niveau BAC+4/5 ans certifié sur la marque des équipements existants à maintenir, et justifiant, d’au moins de cinq (05) années d’expérience sur la maintenance des équipements et systèmes de contrôle d’accès et de vidéosurveillance ;\\n\\uf02d Un ingénieur de niveau BAC+4/5 ans certifié sur la marque des équipements existants à maintenir, et justifiant, d’au moins de cinq (05) années d’expérience sur la maintenance des équipements et systèmes de sécurité incendie ;\\n\\uf02d Un technicien de niveau BAC+2 ans formé sur la marque des équipements existants à maintenir, et justifiant, d’au moins de trois (03) années d’expérience sur la maintenance des équipements de contrôle d’accès et de vidéosurveillance ;\\n\\uf02d Un technicien de niveau BAC+2 ans formé sur la marque des équipements existants à maintenir, et justifiant, d’au moins de trois (03) années d’expérience sur la maintenance des équipements et systèmes de sécurité incendie.\\nNB : Le personnel clé proposé devra s’engager sur leur disponibilité pendant l’exécution des prestations. A ce titre chaque curriculum vitae doit être signé et visé par le représentant de l’entreprise et son titulaire. Les cartes d’identité, les copies légalisées des diplômes, les attestations de travail, les certifications à jour ou attestations de formation doivent obligatoirement être jointes.\\n6. Les candidats intéressés peuvent obtenir un dossier d’appel d’offres complet en s’adressant à la Caisse Centrale de la Direction Financière et Comptable (DFC), sise à l’immeuble Ex COSEC, rue des Messageries, zone sud du Port, contre un paiement non remboursable de vingt-cinq mille (25 000) FCFA les jours ouvrables (du Lundi au Vendredi) :\\n• Lundi au Jeudi : de 7 heures 30 à 13 heures 30 et de 14h à 16h30 mn ;\\n• Vendredi : de 7 heures 30 à 13 heures 30mn\\nNB. La méthode de paiement sera en espèces.\\n7. Les offres seront remises au plus tard le 09 juillet 2025 à 9h 30mn à la salle du Conseil d’Administration de la Direction Générale du Port, 1er étage sise au 21, boulevard de la Libération où les offres seront ouvertes en présence des représentants des candidats le même jour et à la même heure à l’adresse indiquée ci-dessus. Les offres remises en retard ne seront pas acceptées.\\nAucune garantie de soumission n’est exigée.\\nLes offres devront être valables pendant un délai minimum de 90 jours à compter de la date limite de dépôt des offres, pendant lequel les candidats restent engagés par leurs offres.\\nUne visite de sites est prévue le 17 juin 2025 à 10h 00 mn et les candidats convoqués à la Direction Générale du PAD, 21 boulevard de la Libération.\\nUn certificat de visite sera délivré à l’issue et fera partie intégrante de l’offre. Au-delà de la date prévue pour la visite, il sera plus possible de procéder à une autre visite des lieux.\\nNB : Une visite des sites est prévue. Elle est obligatoire et éliminatoire et aucune demande de dérogation ne sera accordée.\\nLE DIRECTEUR GENERAL\\nWaly DIOUF BADIANG'}"
      ]
     },
     "execution_count": 23,
     "metadata": {},
     "output_type": "execute_result"
    }
   ],
   "source": [
    "offres_liste[0]"
   ]
  },
  {
   "cell_type": "code",
   "execution_count": 24,
   "id": "d3b502c1",
   "metadata": {},
   "outputs": [
    {
     "name": "stdout",
     "output_type": "stream",
     "text": [
      "[\n",
      "    {\n",
      "        \"Référence\": \"S_Dd_075\",\n",
      "        \"Objet\": \"Marché de clientèle pour la maintenance des dispositifs de sécurité physiques avec des pièces de rechange (Marché de clientèle)\",\n",
      "        \"Autorité\": \"Port Autonome de Dakar (PAD)\",\n",
      "        \"Publié le\": \"03/06/2025\",\n",
      "        \"Date limite\": \"09/07/2025\",\n",
      "        \"Détail\": \"Avis d’Appel d’Offres – Cas sans pré qualification\\nAvis d’Appel d’Offres Ouvert N° : S_Dd_075\\n==================\\nPORT AUTONOME DE DAKAR\\nMarché de clientèle pour la maintenance des dispositifs\\nde Sécurité Physique avec des pièces de rechange\\n==================\\n1. Le présent avis d’appel d’offres fait suite à l’Avis Général de Passation des Marchés paru dans le journal « LE SOLEIL » du 09 janvier 2025 et publié dans le Portail des Marchés publics du Sénégal ainsi que sur le site du Port au www.portdakar.sn.\\n1. Le Port Autonome de Dakar a obtenu dans le cadre de son budget de fonctionnement 2025 des fonds nécessaires afin de financer le marché de clientèle pour la maintenance des dispositifs de Sécurité Physique avec des pièces de rechange.\\n2. Le Port Autonome de Dakar sollicite des offres sous pli fermé de la part de candidats éligibles et répondant aux qualifications requises pour le marché de clientèle pour la maintenance des dispositifs de Sécurité Physique avec des pièces de rechange.\\n3. La passation du Marché sera conduite par appel d’offres ouvert tel que défini dans le décret n°2022-2295 du 28 décembre 2022 portant Code des Marchés publics, et ouvert à tous les candidats éligibles.\\n4. Les candidats intéressés peuvent obtenir des informations auprès de la Direction Digitale tél. : 33 849 45 46/ 33823 15 40 ou 33 849 45 45 poste 41-57 ; Courriel : cpm@portdakar.sn. Il est possible de prendre connaissance des documents d’Appel d’offres à l’adresse mentionnée ci-après : Cellule de Passation des Marchés du Port Autonome de Dakar – Direction Générale au 1er étage (couloir gauche) 21, boulevard de la Libération, Tél. : 33 849 45 45 poste 41-57 ; fax : 33 822 24 63 ; les jours ouvrables :\\n• Lundi au Jeudi : de 7 heures 30 à 13 heures 30 et de 14h à 16h30 mn ;\\n• Vendredi : de 7 heures 30 à 13 heures 30mn\\nNB : Un exemplaire du Dossier d’Appel d’Offres sera disponible pour être consulté gratuitement sur place pour les candidats qui le souhaitent.\\n5. Les exigences en matière de qualification sont :\\n6.1 Capacité financière\\nLe Candidat doit fournir la preuve écrite qu’il satisfait aux exigences ci-après :\\n Produire les états financiers des trois (03) dernières années (2021, 2022 et 2023) certifiés par un expert ou cabinet d’expertise comptable agréé par l’Ordre National des Experts Comptables et Comptables Agrées du Sénégal (ONECCA) ou organismes assimilés. Ou s’il s’agit d’une entreprise communautaire des états financiers certifiés par un comptable ou un commissaire aux comptes agrée par un organe habilité de son pays d’origine. Ces états financiers devront refléter une situation financière équilibrée du candidat ;\\n Disposer d’une ligne de crédits délivrée par une institution bancaire agréée par le Ministère des Finances et du Budget, d’un montant de quatre millions (4 000 000) F CFA.\\n6.2 Capacités techniques\\nLe Candidat doit prouver, documentation à l’appui, qu’il satisfait aux exigences d’expérience ci-après :\\n Être intégrateur dûment autorisé par le constructeur des équipements existants à maintenir. Joindre à cet effet l’autorisation au nom de votre structure. Le PAD se réserve le droit de faire les vérifications nécessaires auprès des constructeurs et éditeurs.\\n• Avoir exécuté au cours des trois (03) dernières années (2022, 2023 et 2024) un (01) contrat de maintenance similaire. Fournir à cet effet une attestation de bonne exécution. Les bons de commande, fiches de projet, ou copies de marchés ne sont pas acceptés.\\n• Avoir au minimum six (06) ressources compétentes en mesure de répondre à toutes les exigences techniques décrites dans cet appel d’offres :\\n Un ingénieur de niveau BAC+4/5 ans certifié sur la marque des équipements existants à maintenir, et justifiant, d’au moins de cinq (05) années d’expérience sur la maintenance des équipements et systèmes de contrôle d’accès et de vidéosurveillance ;\\n Un ingénieur de niveau BAC+4/5 ans certifié sur la marque des équipements existants à maintenir, et justifiant, d’au moins de cinq (05) années d’expérience sur la maintenance des équipements et systèmes de sécurité incendie ;\\n Un technicien de niveau BAC+2 ans formé sur la marque des équipements existants à maintenir, et justifiant, d’au moins de trois (03) années d’expérience sur la maintenance des équipements de contrôle d’accès et de vidéosurveillance ;\\n Un technicien de niveau BAC+2 ans formé sur la marque des équipements existants à maintenir, et justifiant, d’au moins de trois (03) années d’expérience sur la maintenance des équipements et systèmes de sécurité incendie.\\nNB : Le personnel clé proposé devra s’engager sur leur disponibilité pendant l’exécution des prestations. A ce titre chaque curriculum vitae doit être signé et visé par le représentant de l’entreprise et son titulaire. Les cartes d’identité, les copies légalisées des diplômes, les attestations de travail, les certifications à jour ou attestations de formation doivent obligatoirement être jointes.\\n6. Les candidats intéressés peuvent obtenir un dossier d’appel d’offres complet en s’adressant à la Caisse Centrale de la Direction Financière et Comptable (DFC), sise à l’immeuble Ex COSEC, rue des Messageries, zone sud du Port, contre un paiement non remboursable de vingt-cinq mille (25 000) FCFA les jours ouvrables (du Lundi au Vendredi) :\\n• Lundi au Jeudi : de 7 heures 30 à 13 heures 30 et de 14h à 16h30 mn ;\\n• Vendredi : de 7 heures 30 à 13 heures 30mn\\nNB. La méthode de paiement sera en espèces.\\n7. Les offres seront remises au plus tard le 09 juillet 2025 à 9h 30mn à la salle du Conseil d’Administration de la Direction Générale du Port, 1er étage sise au 21, boulevard de la Libération où les offres seront ouvertes en présence des représentants des candidats le même jour et à la même heure à l’adresse indiquée ci-dessus. Les offres remises en retard ne seront pas acceptées.\\nAucune garantie de soumission n’est exigée.\\nLes offres devront être valables pendant un délai minimum de 90 jours à compter de la date limite de dépôt des offres, pendant lequel les candidats restent engagés par leurs offres.\\nUne visite de sites est prévue le 17 juin 2025 à 10h 00 mn et les candidats convoqués à la Direction Générale du PAD, 21 boulevard de la Libération.\\nUn certificat de visite sera délivré à l’issue et fera partie intégrante de l’offre. Au-delà de la date prévue pour la visite, il sera plus possible de procéder à une autre visite des lieux.\\nNB : Une visite des sites est prévue. Elle est obligatoire et éliminatoire et aucune demande de dérogation ne sera accordée.\\nLE DIRECTEUR GENERAL\\nWaly DIOUF BADIANG\"\n",
      "    },\n",
      "    {\n",
      "        \"Référence\": \"S_FADCL_007\",\n",
      "        \"Objet\": \"L’aménagement des locaux du Secrétariat technique du Comité national de Suivi du Contenu local\",\n",
      "        \"Autorité\": \"Fonds d'Appui au Développement du Contenu local (FADCL)\",\n",
      "        \"Publié le\": \"04/06/2025\",\n",
      "        \"Date limite\": \"19/06/2025\",\n",
      "        \"Détail\": \"NA\"\n",
      "    },\n",
      "    {\n",
      "        \"Référence\": \"S_ BOCS_015\",\n",
      "        \"Objet\": \"Sélection d’une compagnie d’assurance pour la couverture santé-maladie du personnel du BOCS\",\n",
      "        \"Autorité\": \"Bureau Opérationnel de Coordination et de Suivi des Projets et Programmes Prioritaires (BOCS)\",\n",
      "        \"Publié le\": \"28/05/2025\",\n",
      "        \"Date limite\": \"26/06/2025\",\n",
      "        \"Détail\": \"Avis d'Appel d'offres (AA0)\\nBureau Opérationnel de Coordination et de Suivi des Projets et Programmes Prioritaires (BOCS)\\nAvis d'Appel d'Offres n°\\nCet Avis d'appel d'offres fait suite à l'Avis Général de Passation des Marchés paru dans [NUM_PUB] du [DATE_PUB].\\nLe Autorité de Régulation des Marchés Publics [dispose | attend] de(s) [BAILLEURS] , afin de financer [insérer le nom du projet ou du programme, budget], et à l'intention d'utiliser une partie de ces fonds pour effectuer des paiements au titre du Marché Réalisation de l’audit de la passation des marchés de différentes autorités contractantes pour les gestions 2008 et 2009 .\\nLe Autorité de Régulation des Marchés Publics sollicite des offres de la part de candidats éligibles et répondant aux qualifications requises pour réaliser les travaux suivants : [insérer un brève description des travaux].\\nLa passation du Marché sera conduite par Appel d‘offres ouvert tel que défini dans le Code des Marchés publics, et ouvert à tous les candidats éligibles.\\nLes candidats intéressés peuvent obtenir des informations auprès de Autorité de Régulation des Marchés Publics ; [NOM_RESP] et prendre connaissance des documents d'Appel d'offres à l'adresse mentionnée ci-après de [Saisir l'heure du début et l'heure limite ] .\\nLes exigences en matière de qualifications sont : [insérer la liste des conditions d'ordre technique, financier, légal et autre(s)]. Voir le document d'Appel d'offres pour les informations détaillées.\\nLes candidats intéressés peuvent obtenir un dossier d'Appel d'offres complet en formulant une demande écrite à l'adresse mentionnée ci-après contre un paiement non remboursable de . Le document d'Appel d'offres sera adressé par [insérer le mode d'acheminement].\\nLes offres devront être soumises à au plus tard le .\\nles offres seront ouvertes en présence des représentants des candidats présents à le à .\\nles offres doivent comprendre une garantie de soumission, d'un montant de [insérer le montant en CFA ou le montant équivalent dans une monnaie librement convertible] valable pendant un délai de [indiquer la durée minimum de validité de la garantie] à compter de la date limite de dépôt des offres.\\nles offres devront être valables pendant un délai minimum de [indiquer le délai minimum pendant lequel les candidats restent engagés par leurs offres].\"\n",
      "    },\n",
      "    {\n",
      "        \"Référence\": \"S_SG_131\",\n",
      "        \"Objet\": \"Sélection d’un prestataire pour l’organisation de la colonie de vacances pour les enfants du personnel de AGEROUTE Edition 2025\",\n",
      "        \"Autorité\": \"Agence des Travaux et de Gestion des Routes du Sénégal(AGEROUTE)\",\n",
      "        \"Publié le\": \"16/05/2025\",\n",
      "        \"Date limite\": \"17/06/2025\",\n",
      "        \"Détail\": \"Avis d'Appel d'offres (AA0)\\nAgence des Travaux et de Gestion des Routes du Sénégal(AGEROUTE)\\n\\n1. Cet Avis d’appel d’offres fait suite à l’Avis Général de Passation des Marchés paru dans le journal « L’AS » 09 décembre 2024.\\n2. AGEROUTE Sénégal a obtenu de l’état du Sénégal des fonds dans le cadre du Fond d’Entretien Routier Autonome (FERA) et dans le cadre de son budget, afin de financer son budget de fonctionnement, et a l’intention d’utiliser une partie de ces fonds pour effectuer des paiements au titre du Marché pour « la sélection d’un prestataire pour l’organisation de la colonie de vacances pour les enfants du personnel d’AGEROUTE Sénégal. »\\n3. AGEROUTE SENEGAL sollicite des offres sous pli fermé de la part de candidats éligibles et répondant aux qualifications requises pour réaliser les services suivants : organisation de la colonie de vacances édition 2025 au Sénégal.\\nLe délai d’exécution des prestations est de six (06) semaines.\\n4. La passation du Marché sera conduite par Appel d’offres ouvert à tous les candidats éligibles selon les règles de procédure du décret n° 2022-2295 du 28 Décembre 2022 portant Code des Marchés publics du Sénégal.\\n5. Les candidats intéressés peuvent obtenir des informations auprès de l’AGEROUTE SENEGAL sise à Fann Résidence Rue F x, Rue David Diop, Dakar\\nTéléphone : 33 869 07 51, Email : ageroute@ageroute.sn; rndour@ageroute.sn; catthiam@ageroute.sn et prendre connaissance des documents d’Appel d’offres à l’adresse mentionnée ci-dessus du lundi au vendredi de 08 h à 17h.\\n6. Les exigences en matière de qualifications sont :\\na) Avoir réalisé un chiffre d’affaires annuel durant les trois dernières années 2021, 2022 et 2023 égales au moins à 70 000 000 F CFA ;\\nFournir les états financiers accompagnés de l'attestation de visa établie par un membre de l'Ordre national des Experts comptables et Comptables agréés du Sénégal (ONECCA) ou un organisme assimilé pour les trois (03) dernières années à compter de 2021 (2021, 2022 et 2023) ;\\nb) Avoir réalisé avec satisfaction durant les cinq dernières années à compter de 2020 au moins deux (02) marchés similaires d’un montant minimum de 30 000 000 F CFA chacun. Ces marchés devront être justifiés par des attestations de satisfécit dûment signés par les maitres d’ouvrages ;\\nc) Disposer d’une ligne de crédit auprès d’une banque agréée par le Ministère des Finances et du Budget d’un montant minimum de 25 000 000 F CFA ;\\nLes lignes de crédits fournies par les compagnies d’assurances ne seront pas acceptées ;\\nd) Disposer d’un personnel suivant : directeur de collectivités éducatives, moniteurs (hommes et femmes), maître-nageur et adjoint sanitaire (médecin ou infirmier d’état) répondant aux qualifications spécifiées dans le programme d’activités.\\nVoir le document d’Appel d’offres pour les informations détaillées.\\n7. Les candidats intéressés peuvent obtenir un dossier d’Appel d’offres complet en formulant une demande écrite à l’adresse mentionnée ci-après AGEROUTE SENEGAL Fann Résidence Rue F x, Rue David Diop, Dakar contre un paiement non remboursable de vingt-cinq mille (25 000) F CFA par versement au compte numéro SN153 01301 301090002540 64 ouvert au nom de l’AGEROUTE SENEGAL auprès de la banque UBA sise aux Almadies.\\nUn exemplaire du DAO sera disponible pour être consulté gratuitement par les candidats qui le désirent à compter du 16 mai 2025.\\n8. Les offres devront être soumises au Secrétariat de la Cellule de Passation des Marchés de l’AGEROUTE sise à l’adresse ci-dessus au plus tard le 17 juin à 10h 30 mins (GMT). Les offres soumises après la date et heure limite de dépôt des offres, ne seront pas acceptées.\\nLes offres seront ouvertes en présence des représentants des candidats présents à l’adresse ci-dessus le 17 juin à 10h 30 mins (GMT). Les offres doivent comprendre une garantie de soumission, d’un montant d’un million (1 000 000) FCFA valide jusqu’à vingt-huit (28) jours à compter de la fin de validité des offres. Les offres demeureront valides pendant une durée de quatre-vingt-dix (90) jours à compter de la date limite de soumission.\\n\\n\\nLe Directeur Général\\n\\nMamadou NDAO\"\n",
      "    }\n",
      "]\n"
     ]
    }
   ],
   "source": [
    "# Convertir le dictionnaire en format texte\n",
    "offres_texte = json.dumps(offres_liste, indent=4, ensure_ascii=False)\n",
    "print(offres_texte)"
   ]
  }
 ],
 "metadata": {
  "kernelspec": {
   "display_name": "env",
   "language": "python",
   "name": "python3"
  },
  "language_info": {
   "codemirror_mode": {
    "name": "ipython",
    "version": 3
   },
   "file_extension": ".py",
   "mimetype": "text/x-python",
   "name": "python",
   "nbconvert_exporter": "python",
   "pygments_lexer": "ipython3",
   "version": "3.13.1"
  }
 },
 "nbformat": 4,
 "nbformat_minor": 5
}
