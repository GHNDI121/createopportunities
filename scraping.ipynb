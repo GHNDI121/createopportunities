{
 "cells": [
  {
   "cell_type": "markdown",
   "id": "6ea55246",
   "metadata": {},
   "source": [
    "# Scraping des offres sur le site `marchespublics.sn`\n",
    "\n",
    "Dans ce notebook, nous allons utiliser Selenium pour scraper les offres publiées sur le site [marchespublics.sn](http://www.marchespublics.sn/index.php?option=com_loffres&Itemid=104)."
   ]
  },
  {
   "cell_type": "code",
   "execution_count": 1,
   "id": "7dad7a88",
   "metadata": {},
   "outputs": [
    {
     "name": "stdout",
     "output_type": "stream",
     "text": [
      "Requirement already satisfied: selenium in c:\\users\\surface studio\\anaconda3\\lib\\site-packages (4.32.0)\n",
      "Requirement already satisfied: urllib3<3,>=1.26 in c:\\users\\surface studio\\anaconda3\\lib\\site-packages (from urllib3[socks]<3,>=1.26->selenium) (2.2.3)\n",
      "Requirement already satisfied: trio~=0.17 in c:\\users\\surface studio\\anaconda3\\lib\\site-packages (from selenium) (0.30.0)\n",
      "Requirement already satisfied: trio-websocket~=0.9 in c:\\users\\surface studio\\anaconda3\\lib\\site-packages (from selenium) (0.12.2)\n",
      "Requirement already satisfied: certifi>=2021.10.8 in c:\\users\\surface studio\\anaconda3\\lib\\site-packages (from selenium) (2024.8.30)\n",
      "Requirement already satisfied: typing_extensions~=4.9 in c:\\users\\surface studio\\anaconda3\\lib\\site-packages (from selenium) (4.11.0)\n",
      "Requirement already satisfied: websocket-client~=1.8 in c:\\users\\surface studio\\anaconda3\\lib\\site-packages (from selenium) (1.8.0)\n",
      "Requirement already satisfied: attrs>=23.2.0 in c:\\users\\surface studio\\anaconda3\\lib\\site-packages (from trio~=0.17->selenium) (25.3.0)\n",
      "Requirement already satisfied: sortedcontainers in c:\\users\\surface studio\\anaconda3\\lib\\site-packages (from trio~=0.17->selenium) (2.4.0)\n",
      "Requirement already satisfied: idna in c:\\users\\surface studio\\anaconda3\\lib\\site-packages (from trio~=0.17->selenium) (3.7)\n",
      "Requirement already satisfied: outcome in c:\\users\\surface studio\\anaconda3\\lib\\site-packages (from trio~=0.17->selenium) (1.3.0.post0)\n",
      "Requirement already satisfied: sniffio>=1.3.0 in c:\\users\\surface studio\\anaconda3\\lib\\site-packages (from trio~=0.17->selenium) (1.3.0)\n",
      "Requirement already satisfied: cffi>=1.14 in c:\\users\\surface studio\\anaconda3\\lib\\site-packages (from trio~=0.17->selenium) (1.17.1)\n",
      "Requirement already satisfied: wsproto>=0.14 in c:\\users\\surface studio\\anaconda3\\lib\\site-packages (from trio-websocket~=0.9->selenium) (1.2.0)\n",
      "Requirement already satisfied: pysocks!=1.5.7,<2.0,>=1.5.6 in c:\\users\\surface studio\\anaconda3\\lib\\site-packages (from urllib3[socks]<3,>=1.26->selenium) (1.7.1)\n",
      "Requirement already satisfied: pycparser in c:\\users\\surface studio\\anaconda3\\lib\\site-packages (from cffi>=1.14->trio~=0.17->selenium) (2.21)\n",
      "Requirement already satisfied: h11<1,>=0.9.0 in c:\\users\\surface studio\\anaconda3\\lib\\site-packages (from wsproto>=0.14->trio-websocket~=0.9->selenium) (0.14.0)\n",
      "Note: you may need to restart the kernel to use updated packages.\n",
      "Requirement already satisfied: webdriver-manager in c:\\users\\surface studio\\anaconda3\\lib\\site-packages (4.0.2)\n",
      "Requirement already satisfied: requests in c:\\users\\surface studio\\anaconda3\\lib\\site-packages (from webdriver-manager) (2.32.3)\n",
      "Requirement already satisfied: python-dotenv in c:\\users\\surface studio\\anaconda3\\lib\\site-packages (from webdriver-manager) (0.21.0)\n",
      "Requirement already satisfied: packaging in c:\\users\\surface studio\\anaconda3\\lib\\site-packages (from webdriver-manager) (24.1)\n",
      "Requirement already satisfied: charset-normalizer<4,>=2 in c:\\users\\surface studio\\anaconda3\\lib\\site-packages (from requests->webdriver-manager) (3.3.2)\n",
      "Requirement already satisfied: idna<4,>=2.5 in c:\\users\\surface studio\\anaconda3\\lib\\site-packages (from requests->webdriver-manager) (3.7)\n",
      "Requirement already satisfied: urllib3<3,>=1.21.1 in c:\\users\\surface studio\\anaconda3\\lib\\site-packages (from requests->webdriver-manager) (2.2.3)\n",
      "Requirement already satisfied: certifi>=2017.4.17 in c:\\users\\surface studio\\anaconda3\\lib\\site-packages (from requests->webdriver-manager) (2024.8.30)\n",
      "Note: you may need to restart the kernel to use updated packages.\n",
      "Requirement already satisfied: webdriver-manager in c:\\users\\surface studio\\anaconda3\\lib\\site-packages (4.0.2)\n",
      "Requirement already satisfied: requests in c:\\users\\surface studio\\anaconda3\\lib\\site-packages (from webdriver-manager) (2.32.3)\n",
      "Requirement already satisfied: python-dotenv in c:\\users\\surface studio\\anaconda3\\lib\\site-packages (from webdriver-manager) (0.21.0)\n",
      "Requirement already satisfied: packaging in c:\\users\\surface studio\\anaconda3\\lib\\site-packages (from webdriver-manager) (24.1)\n",
      "Requirement already satisfied: charset-normalizer<4,>=2 in c:\\users\\surface studio\\anaconda3\\lib\\site-packages (from requests->webdriver-manager) (3.3.2)\n",
      "Requirement already satisfied: idna<4,>=2.5 in c:\\users\\surface studio\\anaconda3\\lib\\site-packages (from requests->webdriver-manager) (3.7)\n",
      "Requirement already satisfied: urllib3<3,>=1.21.1 in c:\\users\\surface studio\\anaconda3\\lib\\site-packages (from requests->webdriver-manager) (2.2.3)\n",
      "Requirement already satisfied: certifi>=2017.4.17 in c:\\users\\surface studio\\anaconda3\\lib\\site-packages (from requests->webdriver-manager) (2024.8.30)\n",
      "Note: you may need to restart the kernel to use updated packages.\n",
      "Requirement already satisfied: pandas in c:\\users\\surface studio\\anaconda3\\lib\\site-packages (2.2.2)\n",
      "Requirement already satisfied: numpy>=1.26.0 in c:\\users\\surface studio\\anaconda3\\lib\\site-packages (from pandas) (1.26.4)\n",
      "Requirement already satisfied: python-dateutil>=2.8.2 in c:\\users\\surface studio\\anaconda3\\lib\\site-packages (from pandas) (2.9.0.post0)\n",
      "Requirement already satisfied: pytz>=2020.1 in c:\\users\\surface studio\\anaconda3\\lib\\site-packages (from pandas) (2024.1)\n",
      "Requirement already satisfied: tzdata>=2022.7 in c:\\users\\surface studio\\anaconda3\\lib\\site-packages (from pandas) (2023.3)\n",
      "Requirement already satisfied: six>=1.5 in c:\\users\\surface studio\\anaconda3\\lib\\site-packages (from python-dateutil>=2.8.2->pandas) (1.16.0)\n",
      "Note: you may need to restart the kernel to use updated packages.\n",
      "Requirement already satisfied: pandas in c:\\users\\surface studio\\anaconda3\\lib\\site-packages (2.2.2)\n",
      "Requirement already satisfied: numpy>=1.26.0 in c:\\users\\surface studio\\anaconda3\\lib\\site-packages (from pandas) (1.26.4)\n",
      "Requirement already satisfied: python-dateutil>=2.8.2 in c:\\users\\surface studio\\anaconda3\\lib\\site-packages (from pandas) (2.9.0.post0)\n",
      "Requirement already satisfied: pytz>=2020.1 in c:\\users\\surface studio\\anaconda3\\lib\\site-packages (from pandas) (2024.1)\n",
      "Requirement already satisfied: tzdata>=2022.7 in c:\\users\\surface studio\\anaconda3\\lib\\site-packages (from pandas) (2023.3)\n",
      "Requirement already satisfied: six>=1.5 in c:\\users\\surface studio\\anaconda3\\lib\\site-packages (from python-dateutil>=2.8.2->pandas) (1.16.0)\n",
      "Note: you may need to restart the kernel to use updated packages.\n"
     ]
    }
   ],
   "source": [
    "try:\n",
    "    get_ipython().run_line_magic('pip', 'install selenium')\n",
    "    get_ipython().run_line_magic('pip', 'install webdriver-manager')\n",
    "    get_ipython().run_line_magic('pip', 'install pandas')\n",
    "except NameError:\n",
    "    pass"
   ]
  },
  {
   "cell_type": "code",
   "execution_count": 2,
   "id": "6297133e",
   "metadata": {},
   "outputs": [],
   "source": [
    "from selenium import webdriver\n",
    "from selenium.webdriver.common.by import By\n",
    "from selenium.webdriver.chrome.service import Service\n",
    "from selenium.webdriver.chrome.options import Options\n",
    "from webdriver_manager.chrome import ChromeDriverManager\n",
    "from selenium.common.exceptions import TimeoutException\n",
    "from selenium.webdriver.support.ui import WebDriverWait\n",
    "from selenium.webdriver.support import expected_conditions as EC\n",
    "import pandas as pd\n",
    "import time\n",
    "from datetime import datetime\n",
    "import json"
   ]
  },
  {
   "cell_type": "code",
   "execution_count": 3,
   "id": "128ae200",
   "metadata": {},
   "outputs": [],
   "source": [
    "# Configurer Selenium avec ChromeDriver\n",
    "options = Options()\n",
    "options.add_argument('--headless')  # Exécuter en mode sans tête (sans interface graphique)\n",
    "options.add_argument('--disable-gpu')\n",
    "options.add_argument('--no-sandbox')"
   ]
  },
  {
   "cell_type": "code",
   "execution_count": 4,
   "id": "0eecd54e",
   "metadata": {},
   "outputs": [],
   "source": [
    "# Configuration du driver\n",
    "driver = webdriver.Chrome(service=Service(ChromeDriverManager().install()), options=options)\n"
   ]
  },
  {
   "cell_type": "code",
   "execution_count": 5,
   "id": "f3beba51",
   "metadata": {},
   "outputs": [],
   "source": [
    "# URL des offres \"Prestation de services\"\n",
    "url = \"http://www.marchespublics.sn/index.php?option=com_loffres&task=view&idcat=002&Itemid=104&gestion=2025&statut=1\"\n",
    "driver.get(url)\n"
   ]
  },
  {
   "cell_type": "code",
   "execution_count": 6,
   "id": "08d8d304",
   "metadata": {},
   "outputs": [],
   "source": [
    "# definir l'année courante\n",
    "current_year = datetime.now().year\n",
    "# Trouver le tableau contenant les offres\n",
    "rows = driver.find_elements(By.CSS_SELECTOR, \"table.content_table tbody tr\")[1:]  # pour sauter l'entête\n"
   ]
  },
  {
   "cell_type": "code",
   "execution_count": 7,
   "id": "3943b8a0",
   "metadata": {},
   "outputs": [],
   "source": [
    "data = []\n",
    "\n",
    "for row in rows[1:]:\n",
    "    try:\n",
    "        cols = row.find_elements(By.TAG_NAME, \"td\")\n",
    "        if len(cols) < 6:\n",
    "            continue\n",
    "\n",
    "        # ✅ Tenter de récupérer le lien AVANT de continuer\n",
    "        try:\n",
    "            detail_td = cols[5]\n",
    "            div = detail_td.find_element(By.TAG_NAME, \"div\")\n",
    "            a_tags = div.find_elements(By.TAG_NAME, \"a\")\n",
    "            if not a_tags:\n",
    "                continue  # Pas de lien => ce n'est pas une ligne d'offre\n",
    "            detail_link = a_tags[0].get_attribute(\"href\")\n",
    "        except:\n",
    "            continue  # Évite les erreurs sur les lignes non valides\n",
    "\n",
    "        # ✅ Extraire les autres infos de la ligne\n",
    "        ref = cols[0].text.strip() or \"NA\"\n",
    "        objet = cols[1].text.strip() or \"NA\"\n",
    "        autorite = cols[2].text.strip() or \"NA\"\n",
    "        publie_le = cols[3].text.strip() or \"NA\"\n",
    "        date_limite = cols[4].text.strip() or \"NA\"\n",
    "\n",
    "        # ✅ Ouvrir le lien dans un nouvel onglet\n",
    "        driver.execute_script(\"window.open(arguments[0]);\", detail_link)\n",
    "        driver.switch_to.window(driver.window_handles[1])\n",
    "\n",
    "        try:\n",
    "            table_elem = WebDriverWait(driver, 5).until(\n",
    "                EC.presence_of_element_located((By.CSS_SELECTOR, \"table.no-style\"))\n",
    "            )\n",
    "            td_elem = table_elem.find_element(By.TAG_NAME, \"td\")\n",
    "            detail_text = td_elem.text.strip() or \"NA\"\n",
    "        except Exception as e:\n",
    "            print(f\"⚠️ Détail non trouvé pour {ref} : {e}\")\n",
    "            detail_text = \"NA\"\n",
    "\n",
    "        driver.close()\n",
    "        driver.switch_to.window(driver.window_handles[0])\n",
    "\n",
    "        data.append([ref, objet, autorite, publie_le, date_limite, detail_text])\n",
    "\n",
    "    except Exception as e:\n",
    "        print(f\"❌ Erreur sur l’offre {ref if 'ref' in locals() else 'inconnue'} : {e}\")\n",
    "        continue\n",
    "\n",
    "driver.quit()\n"
   ]
  },
  {
   "cell_type": "code",
   "execution_count": 8,
   "id": "a0ad569e",
   "metadata": {},
   "outputs": [
    {
     "name": "stdout",
     "output_type": "stream",
     "text": [
      "Nombre d'offres récupérées : 6\n"
     ]
    }
   ],
   "source": [
    "print(\"Nombre d'offres récupérées :\", len(data))"
   ]
  },
  {
   "cell_type": "code",
   "execution_count": 9,
   "id": "612363b4",
   "metadata": {},
   "outputs": [
    {
     "data": {
      "text/html": [
       "<div>\n",
       "<style scoped>\n",
       "    .dataframe tbody tr th:only-of-type {\n",
       "        vertical-align: middle;\n",
       "    }\n",
       "\n",
       "    .dataframe tbody tr th {\n",
       "        vertical-align: top;\n",
       "    }\n",
       "\n",
       "    .dataframe thead th {\n",
       "        text-align: right;\n",
       "    }\n",
       "</style>\n",
       "<table border=\"1\" class=\"dataframe\">\n",
       "  <thead>\n",
       "    <tr style=\"text-align: right;\">\n",
       "      <th></th>\n",
       "      <th>Référence</th>\n",
       "      <th>Objet</th>\n",
       "      <th>Autorité</th>\n",
       "      <th>Publié le</th>\n",
       "      <th>Date limite</th>\n",
       "      <th>Détail</th>\n",
       "    </tr>\n",
       "  </thead>\n",
       "  <tbody>\n",
       "    <tr>\n",
       "      <th>0</th>\n",
       "      <td>F_FADCL_006</td>\n",
       "      <td>Acquisition Catalogues et imprimés publicitair...</td>\n",
       "      <td>Fonds d'Appui au Développement du Contenu loca...</td>\n",
       "      <td>12/05/2025</td>\n",
       "      <td>23/05/2025</td>\n",
       "      <td>NA</td>\n",
       "    </tr>\n",
       "    <tr>\n",
       "      <th>1</th>\n",
       "      <td>S_DST_007</td>\n",
       "      <td>Location de véhicules de pompage</td>\n",
       "      <td>Ville de Pikine</td>\n",
       "      <td>03/05/2025</td>\n",
       "      <td>19/05/2025</td>\n",
       "      <td>Avis de la demande de renseignement et de prix...</td>\n",
       "    </tr>\n",
       "    <tr>\n",
       "      <th>2</th>\n",
       "      <td>S_FADCL_005</td>\n",
       "      <td>hébergements des plateformes mines et hydrocar...</td>\n",
       "      <td>Fonds d'Appui au Développement du Contenu loca...</td>\n",
       "      <td>09/05/2025</td>\n",
       "      <td>22/05/2025</td>\n",
       "      <td>NA</td>\n",
       "    </tr>\n",
       "    <tr>\n",
       "      <th>3</th>\n",
       "      <td>S_DCH_125</td>\n",
       "      <td>sélection d'un prestataire pour l'organisation...</td>\n",
       "      <td>Port Autonome de Dakar (PAD)</td>\n",
       "      <td>18/04/2025</td>\n",
       "      <td>21/05/2025</td>\n",
       "      <td>PORT AUTONOME DE DAKAR\\n==================\\nAv...</td>\n",
       "    </tr>\n",
       "    <tr>\n",
       "      <th>4</th>\n",
       "      <td>S_CPM_018</td>\n",
       "      <td>Entretein et réparation de véhicules 2 lots</td>\n",
       "      <td>NA</td>\n",
       "      <td>18/04/2025</td>\n",
       "      <td>19/05/2025</td>\n",
       "      <td>Avis d'Appel d'offres (AA0)\\nMinistère de l'En...</td>\n",
       "    </tr>\n",
       "    <tr>\n",
       "      <th>5</th>\n",
       "      <td>S_CQHSE_110</td>\n",
       "      <td>Sélection d’un prestataire pour l’accompagneme...</td>\n",
       "      <td>Port Autonome de Dakar (PAD)</td>\n",
       "      <td>14/05/2025</td>\n",
       "      <td>14/05/2025</td>\n",
       "      <td>NA</td>\n",
       "    </tr>\n",
       "  </tbody>\n",
       "</table>\n",
       "</div>"
      ],
      "text/plain": [
       "     Référence                                              Objet  \\\n",
       "0  F_FADCL_006  Acquisition Catalogues et imprimés publicitair...   \n",
       "1    S_DST_007                   Location de véhicules de pompage   \n",
       "2  S_FADCL_005  hébergements des plateformes mines et hydrocar...   \n",
       "3    S_DCH_125  sélection d'un prestataire pour l'organisation...   \n",
       "4    S_CPM_018        Entretein et réparation de véhicules 2 lots   \n",
       "5  S_CQHSE_110  Sélection d’un prestataire pour l’accompagneme...   \n",
       "\n",
       "                                            Autorité   Publié le Date limite  \\\n",
       "0  Fonds d'Appui au Développement du Contenu loca...  12/05/2025  23/05/2025   \n",
       "1                                    Ville de Pikine  03/05/2025  19/05/2025   \n",
       "2  Fonds d'Appui au Développement du Contenu loca...  09/05/2025  22/05/2025   \n",
       "3                       Port Autonome de Dakar (PAD)  18/04/2025  21/05/2025   \n",
       "4                                                 NA  18/04/2025  19/05/2025   \n",
       "5                       Port Autonome de Dakar (PAD)  14/05/2025  14/05/2025   \n",
       "\n",
       "                                              Détail  \n",
       "0                                                 NA  \n",
       "1  Avis de la demande de renseignement et de prix...  \n",
       "2                                                 NA  \n",
       "3  PORT AUTONOME DE DAKAR\\n==================\\nAv...  \n",
       "4  Avis d'Appel d'offres (AA0)\\nMinistère de l'En...  \n",
       "5                                                 NA  "
      ]
     },
     "execution_count": 9,
     "metadata": {},
     "output_type": "execute_result"
    }
   ],
   "source": [
    "# le dataframe\n",
    "df = pd.DataFrame(data, columns=[\"Référence\", \"Objet\", \"Autorité\", \"Publié le\", \"Date limite\", \"Détail\"])\n",
    "df"
   ]
  },
  {
   "cell_type": "code",
   "execution_count": 10,
   "id": "1185b702",
   "metadata": {},
   "outputs": [
    {
     "data": {
      "text/plain": [
       "[{'Référence': 'F_FADCL_006',\n",
       "  'Objet': \"Acquisition Catalogues et imprimés publicitaires (travaux d'imprimerie)\",\n",
       "  'Autorité': \"Fonds d'Appui au Développement du Contenu local (FADCL)\",\n",
       "  'Publié le': '12/05/2025',\n",
       "  'Date limite': '23/05/2025',\n",
       "  'Détail': 'NA'},\n",
       " {'Référence': 'S_DST_007',\n",
       "  'Objet': 'Location de véhicules de pompage',\n",
       "  'Autorité': 'Ville de Pikine',\n",
       "  'Publié le': '03/05/2025',\n",
       "  'Date limite': '19/05/2025',\n",
       "  'Détail': 'Avis de la demande de renseignement et de prix à compétition ouverte (ADRPCO)\\nVille de Pikine\\nAvis de la DRPCO n° S_DST_007/2025\\nCet Avis d\\'appel public à concurrence fait suite à l\\'Avis Général de Passation des Marchés paru dans dans le journal \"SUD QUOTIDIEN\" n°9464 du jeudi 12 décembre 2024.\\nLa Ville de Pikine a obtenu dans le cadre de son budget 2025 des fonds et a l\\'intention d\\'utiliser une partie de ces fonds pour effectuer des paiements au titre du Marché n°S-DST-007/2025 relatif à la location de véhicules de pompage.\\nLa Ville de Pikine sollicite des offres sous pli fermé de la part de candidats éligibles et répondant aux critères de qualifications requises pour réaliser les services de location de véhicules de pompage. La DRPCO porte sur un lot unique.\\nLa passation du Marché sera conduite par Demande de renseignements et de Prix ouverte telle que défini dans le Code des Marchés publics, et ouvert à tous les candidats éligibles.\\nLes candidats intéressés peuvent obtenir des informations auprès de la Directrice des Services techniques de la Ville sise hôtel de Ville de Pikine, route du marché central aux poissons: téléphone 77 68 44 ou 76 223 11 71 et prendre connaissance du dossier de la DRPCO à l\\'adresse mentionnée ci-dessus du lundi au vendredi de 08 heures à 13 heures 30 minutes et de 14 heures 30 minutes à 17 heures.\\nLes exigences en matière de qualifications sont : Voir le document de la DRPCO pour les informations détaillées.\\nLes candidats intéressés par la présente DRPCO peuvent retirer le dossier de la DRPCO complete en formulant une demande écrite à l\\'adresse mentionnée ci-après: Direction des Services techniques de l\\'hôtel de Ville de Pikine, route du marché central aux poissons près du Parc Lambaye , téléphone: 77 521 68 44 ou 76 223 11 71 contre un paiement non remboursable de vingt cinq mille (25 000) FCFA. Le paiement se fera par espèce.\\nLes offres devront être soumises au bureau du courrier sis au rez de chaussée du bâtiment administratif de l\\'hôtel de Ville de Pikine, route du marché central aux poissons, près du parc Lambaye au plus tard le 19/05/2025 à 12 heures prècises.\\nles offres seront ouvertes en présence des représentants des candidats présents le 19/05/2025 à 12:00, heures de Dakar dans la salle de rèunion de l\\'hôtel de Ville de Pikine, route du marché central aux poissons près du Parc Lambaye.\\nles offres doivent comprendre une garantie de soumission, d\\'un montant d\\'un million cent mille francs CFA (1 100 000 F CFA). La garantie de soumission demeurera valide pendant une durée de vingt huit (28) jours au delà de l\\'expiration de la durée de validité des offres. L\\'organisme financier (banque ou compagnie d\\'assurance) émetteur de ladite garantie de soumission doit être agrée par le Ministère des Finances et du Budget du Sénégal.\\nles offres devront demeurer valides pendant une durée de quatre vingt dix (90) jours à compter de la date limite de soumission des offres.'},\n",
       " {'Référence': 'S_FADCL_005',\n",
       "  'Objet': 'hébergements des plateformes mines et hydrocarbures',\n",
       "  'Autorité': \"Fonds d'Appui au Développement du Contenu local (FADCL)\",\n",
       "  'Publié le': '09/05/2025',\n",
       "  'Date limite': '22/05/2025',\n",
       "  'Détail': 'NA'},\n",
       " {'Référence': 'S_DCH_125',\n",
       "  'Objet': \"sélection d'un prestataire pour l'organisation de colonie de vacances au profit des enfants du personnel du Port Autonome de Dakar\",\n",
       "  'Autorité': 'Port Autonome de Dakar (PAD)',\n",
       "  'Publié le': '18/04/2025',\n",
       "  'Date limite': '21/05/2025',\n",
       "  'Détail': \"PORT AUTONOME DE DAKAR\\n==================\\nAvis d’Appel d’Offres Ouvert\\nCas sans préqualification\\nAAO n°S_DCH_125\\n==================\\nSélection d'un prestataire pour l'organisation d’une colonie de vacances au profit des enfants du personnel du Port Autonome de Dakar\\n=============\\n1. Le présent avis d’appel d’offres fait suite à l’Avis Général de Passation des Marchés paru dans le journal « Le Soleil » n°16380 du 09 janvier 2025 publié sur le Portail des Marchés publics du Sénégal et sur le site du Port www.portdakar.sn.\\n2. Le Port Autonome de Dakar a obtenu, dans le cadre de son budget de fonctionnement 2025, des fonds pour effectuer des paiements au titre du marché relatif à la sélection d'un prestataire pour l'organisation de Colonies de vacances au profit des enfants du personnel du Port Autonome de Dakar (S_DCH_125)\\n3.  Le Port Autonome de Dakar sollicite des offres sous pli fermé de la part de candidats éligibles et répondant aux qualifications requises pour assurer les services suivants :Assurer l’organisation et l’encadrement des activités éducatives, récréatives et de loisirs des enfants du personnel du Port Autonome de Dakar pendant toute la durée de la colonie dans les conditions d’hébergement, d’hygiène et de sécurité décrites dans le programme d’activités.\\n4. La passation du Marché sera conduite par appel d’offres ouvert tel que défini dans le décret n°2022 -2295- du 28 décembre 2022 portant Code des Marchés publics, et ouvert à tous les candidats éligibles.\\n5. Les candidats intéressés peuvent obtenir des informations auprès de la Personne Responsable du Marché ( Le Directeur du Capital Humain) Tél. : 33 849 45 45/ poste 7912 et par courriel : cpm@portdakar.sn et prendre connaissance des documents d’Appel d’offres à l’adresse mentionnée ci-après : Cellule de Passation des Marchés du Port Autonome de Dakar – Direction générale 21, boulevard de la Libération au 1er étage (couloir gauche) bureau n° 1D5 tél. : 33 849 45 45 poste 41-57, les jours ouvrables (du Lundi au Vendredi) :\\n• Lundi- Jeudi : 7 heures 30 mn à 13 heures 30 mn et de 14h à 16h30 mn,\\n• Vendredi : 7 heures 30 mn à 13 heures 30 mn\\n6. Les exigences en matière de qualification sont :\\na. Capacité financière\\nLe candidat doit fournir la preuve écrite qu’il satisfait à l’exigence ci-après :\\n• Produire les états financiers certifiés au titre des exercices 2021, 2022 et 2023 dûment par un expert ou cabinet d’expertise comptable agréé par l’Ordre National des Experts Comptables et Comptables Agrées du Sénégal (ONECCA) ou organismes assimilés. Ou s’il s’agit d’une entreprise communautaire des états financiers certifiés par un comptable ou un commissaire aux comptes agrée par un organe habilité de son pays d’origine.\\n• Disposer d’une ligne de crédit délivrée par une institution bancaire agréée par le Ministère des Finances et du Budget d’un montant de trente millions (30 000 0000) F CFA).\\nb. Capacité technique et expérience\\nLe candidat doit prouver, documentation à l’appui qu’il satisfait aux exigences de capacité technique et d’expérience ci-après :\\n\\uf0d8 Le soumissionnaire doit être une société de droit privé ou une association juridiquement constituée et reconnu par l’Etat en matière d’organisation de colonies de vacances. Fournir à cet effet les pièces justificatives, ;\\n\\uf0d8 Avoir réalisé au cours des trois (3) dernières années (2022,2023 et 2024) pour le compte d’une société de droit public ou privé, au moins un marché similaire (colonies organisées à l’extérieur du Sénégal avec un effectif environ plus de 50 enfants. A cet effet, joindre les attestations de service fait.\\n\\uf0d8 Justifier d’un personnel de qualité, capitalisant compétences et expériences en matière d’encadrement des collectivités éducatives et joindre obligatoirement les copies légalisées des diplômes et les CV des membres de l’encadrement désigné ci-après (critère éliminatoire :\\n\\uf0d8 Une fiche individuelle détaillant les qualifications de chaque encadreur devra être jointe à l’offre de services (cv, casiers judiciaires et copies certifiées conformes des diplômes). L’encadrement doit comprendre : – un (01) Directeur de la colonie ; – un (01) Directeur pédagogique ; – un (01) Médecin avec plusieurs années d’expérience ; (01) économat – 7 moniteurs diplômés ; – un Maître-nageur qualifié.\\n\\uf0d8 Les exigences pour chaque qualification sont énumérées ci-dessous :\\n- Pour le Directeur de la colonie : diplôme de Directeur de collectivités éducatives, présentation du carnet de Directeur attestant le nombre d’expériences en matière de colonie étrangère (1 colonie étrangère réalisée dans les trois (3) dernières années, 2022, 2023 et 2024), fournir une attestation de bonne exécution d’un marché similaire ;\\n- Pour le Directeur pédagogique : diplôme de Directeur de collectivités éducatives, présentation du carnet de Directeur attestant le nombre d’expériences en matière de colonie étrangère (1 colonie étrangère réalisée dans les trois (3) dernières années, 2022, 2023 et 2024) ;\\n- Pour l’économe : diplôme de Directeur de collectivités éducatives, présentation du carnet de Directeur attestant le nombre d’expériences en matière de colonie étrangère (1 colonie étrangère réalisée dans les trois (3) dernières années, (2022, 2023 et 2024);\\n- Pour le Médecin : être diplômé en médecine générale avec une participation requise en matière de colonie de vacances (1 colonie étrangère réalisée dans les trois (3) dernières années, (2022, 2023 et 2024) disponible à temps plein durant le séjour ;\\n- Pour le Maitre-nageur : diplôme de maitre-nageur sauveteur avec une expérience requise en matière de colonie de vacances (une colonie dans les trois (3) dernières années, (2022, 2023 et 2024); diplômé en secourisme ;\\n- Pour les Moniteurs : diplômé en collectivités éducatives et présentation du carnet de moniteur attestant le nombre d’expériences en matière de colonie de vacances avec une participation requise en matière de colonie de vacances (1 colonie étrangère réalisée dans les trois (3) dernières années, (2022, 2023 et 2024)\\n7. Les candidats intéressés peuvent obtenir un dossier d’appel d’offres complet en s’adressant à la Caisse Centrale de la Direction Financière et Comptable (DFC), sise à l’immeuble Ex COSEC, rue des Messageries, zone sud du Port, contre un paiement non remboursable de vingt-cinq mille (25 000) en FCFA les jours ouvrables (du Lundi au Vendredi) :\\n• Lundi- Jeudi : 7 heures 30 à 13 heures 30 et de 14h à 16h30 mn ;\\n• Vendredi : 7 heures 30 à 13 heures 30mn\\nNB. La méthode de paiement sera en espèces.\\nNB : Un exemplaire du dossier d’appel d’offres sera disponible pour être consulté gratuitement sur place pour les candidats qui le souhaitent\\n8. Les offres devront être soumises au plus tard le 21 MAI 2025 à 9h 30mn à la salle du Conseil d’Administration de la Direction Générale du Port, 1er étage sise au 21, boulevard de la Libération où les offres seront ouvertes en présence des représentants des candidats le même jour et à la même heure à l’adresse indiquée ci-dessus. Les offres remises en retard ne seront pas acceptées.\\nLes offres doivent comprendre une garantie de soumission, délivrée par un organisme financier agrée par le Ministère des Finances et du Budget, d’un montant d’un million cinq cent mille (1.500.000) francs CFA.\\nLes offres devront être valables pendant un délai minimum de 90 jours, à compter de la date limite de dépôt des offres, pendant lequel les candidats restent engagés par leurs offres.\\nLe Directeur Général\\nWaly Diouf BODIAN\"},\n",
       " {'Référence': 'S_CPM_018',\n",
       "  'Objet': 'Entretein et réparation de véhicules 2 lots',\n",
       "  'Autorité': 'NA',\n",
       "  'Publié le': '18/04/2025',\n",
       "  'Date limite': '19/05/2025',\n",
       "  'Détail': \"Avis d'Appel d'offres (AA0)\\nMinistère de l'Environnement et de la Transition Ecologique (groupe 2)\\nAvis d'Appel d'Offres n°\\nCet Avis d'appel d'offres fait suite à l'Avis Général de Passation des Marchés paru dans [NUM_PUB] du [DATE_PUB].\\nLe Autorité de Régulation des Marchés Publics [dispose | attend] de(s) [BAILLEURS] , afin de financer [insérer le nom du projet ou du programme, budget], et à l'intention d'utiliser une partie de ces fonds pour effectuer des paiements au titre du Marché Réalisation de l’audit de la passation des marchés de différentes autorités contractantes pour les gestions 2008 et 2009 .\\nLe Autorité de Régulation des Marchés Publics sollicite des offres de la part de candidats éligibles et répondant aux qualifications requises pour réaliser les travaux suivants : [insérer un brève description des travaux].\\nLa passation du Marché sera conduite par Appel d‘offres ouvert tel que défini dans le Code des Marchés publics, et ouvert à tous les candidats éligibles.\\nLes candidats intéressés peuvent obtenir des informations auprès de Autorité de Régulation des Marchés Publics ; [NOM_RESP] et prendre connaissance des documents d'Appel d'offres à l'adresse mentionnée ci-après de [Saisir l'heure du début et l'heure limite ] .\\nLes exigences en matière de qualifications sont : [insérer la liste des conditions d'ordre technique, financier, légal et autre(s)]. Voir le document d'Appel d'offres pour les informations détaillées.\\nLes candidats intéressés peuvent obtenir un dossier d'Appel d'offres complet en formulant une demande écrite à l'adresse mentionnée ci-après contre un paiement non remboursable de . Le document d'Appel d'offres sera adressé par [insérer le mode d'acheminement].\\nLes offres devront être soumises à au plus tard le .\\nles offres seront ouvertes en présence des représentants des candidats présents à le à .\\nles offres doivent comprendre une garantie de soumission, d'un montant de [insérer le montant en CFA ou le montant équivalent dans une monnaie librement convertible] valable pendant un délai de [indiquer la durée minimum de validité de la garantie] à compter de la date limite de dépôt des offres.\\nles offres devront être valables pendant un délai minimum de [indiquer le délai minimum pendant lequel les candidats restent engagés par leurs offres].\"},\n",
       " {'Référence': 'S_CQHSE_110',\n",
       "  'Objet': \"Sélection d’un prestataire pour l’accompagnement de la célébration de la Journée Mondiale de l'Environnement 'JME) et des autres Journées HSE jusqu'au 3ème trimestre 2025\",\n",
       "  'Autorité': 'Port Autonome de Dakar (PAD)',\n",
       "  'Publié le': '14/05/2025',\n",
       "  'Date limite': '14/05/2025',\n",
       "  'Détail': 'NA'}]"
      ]
     },
     "execution_count": 10,
     "metadata": {},
     "output_type": "execute_result"
    }
   ],
   "source": [
    "offres_liste = df.to_dict(orient='records')\n",
    "offres_liste"
   ]
  },
  {
   "cell_type": "code",
   "execution_count": 16,
   "id": "a9e0f61f",
   "metadata": {},
   "outputs": [
    {
     "data": {
      "text/plain": [
       "{'Référence': 'F_FADCL_006',\n",
       " 'Objet': \"Acquisition Catalogues et imprimés publicitaires (travaux d'imprimerie)\",\n",
       " 'Autorité': \"Fonds d'Appui au Développement du Contenu local (FADCL)\",\n",
       " 'Publié le': '12/05/2025',\n",
       " 'Date limite': '23/05/2025',\n",
       " 'Détail': 'NA'}"
      ]
     },
     "execution_count": 16,
     "metadata": {},
     "output_type": "execute_result"
    }
   ],
   "source": [
    "offres_liste[0]"
   ]
  },
  {
   "cell_type": "code",
   "execution_count": 18,
   "id": "d3b502c1",
   "metadata": {},
   "outputs": [
    {
     "name": "stdout",
     "output_type": "stream",
     "text": [
      "[\n",
      "    {\n",
      "        \"Référence\": \"F_FADCL_006\",\n",
      "        \"Objet\": \"Acquisition Catalogues et imprimés publicitaires (travaux d'imprimerie)\",\n",
      "        \"Autorité\": \"Fonds d'Appui au Développement du Contenu local (FADCL)\",\n",
      "        \"Publié le\": \"12/05/2025\",\n",
      "        \"Date limite\": \"23/05/2025\",\n",
      "        \"Détail\": \"NA\"\n",
      "    },\n",
      "    {\n",
      "        \"Référence\": \"S_DST_007\",\n",
      "        \"Objet\": \"Location de véhicules de pompage\",\n",
      "        \"Autorité\": \"Ville de Pikine\",\n",
      "        \"Publié le\": \"03/05/2025\",\n",
      "        \"Date limite\": \"19/05/2025\",\n",
      "        \"Détail\": \"Avis de la demande de renseignement et de prix à compétition ouverte (ADRPCO)\\nVille de Pikine\\nAvis de la DRPCO n° S_DST_007/2025\\nCet Avis d'appel public à concurrence fait suite à l'Avis Général de Passation des Marchés paru dans dans le journal \\\"SUD QUOTIDIEN\\\" n°9464 du jeudi 12 décembre 2024.\\nLa Ville de Pikine a obtenu dans le cadre de son budget 2025 des fonds et a l'intention d'utiliser une partie de ces fonds pour effectuer des paiements au titre du Marché n°S-DST-007/2025 relatif à la location de véhicules de pompage.\\nLa Ville de Pikine sollicite des offres sous pli fermé de la part de candidats éligibles et répondant aux critères de qualifications requises pour réaliser les services de location de véhicules de pompage. La DRPCO porte sur un lot unique.\\nLa passation du Marché sera conduite par Demande de renseignements et de Prix ouverte telle que défini dans le Code des Marchés publics, et ouvert à tous les candidats éligibles.\\nLes candidats intéressés peuvent obtenir des informations auprès de la Directrice des Services techniques de la Ville sise hôtel de Ville de Pikine, route du marché central aux poissons: téléphone 77 68 44 ou 76 223 11 71 et prendre connaissance du dossier de la DRPCO à l'adresse mentionnée ci-dessus du lundi au vendredi de 08 heures à 13 heures 30 minutes et de 14 heures 30 minutes à 17 heures.\\nLes exigences en matière de qualifications sont : Voir le document de la DRPCO pour les informations détaillées.\\nLes candidats intéressés par la présente DRPCO peuvent retirer le dossier de la DRPCO complete en formulant une demande écrite à l'adresse mentionnée ci-après: Direction des Services techniques de l'hôtel de Ville de Pikine, route du marché central aux poissons près du Parc Lambaye , téléphone: 77 521 68 44 ou 76 223 11 71 contre un paiement non remboursable de vingt cinq mille (25 000) FCFA. Le paiement se fera par espèce.\\nLes offres devront être soumises au bureau du courrier sis au rez de chaussée du bâtiment administratif de l'hôtel de Ville de Pikine, route du marché central aux poissons, près du parc Lambaye au plus tard le 19/05/2025 à 12 heures prècises.\\nles offres seront ouvertes en présence des représentants des candidats présents le 19/05/2025 à 12:00, heures de Dakar dans la salle de rèunion de l'hôtel de Ville de Pikine, route du marché central aux poissons près du Parc Lambaye.\\nles offres doivent comprendre une garantie de soumission, d'un montant d'un million cent mille francs CFA (1 100 000 F CFA). La garantie de soumission demeurera valide pendant une durée de vingt huit (28) jours au delà de l'expiration de la durée de validité des offres. L'organisme financier (banque ou compagnie d'assurance) émetteur de ladite garantie de soumission doit être agrée par le Ministère des Finances et du Budget du Sénégal.\\nles offres devront demeurer valides pendant une durée de quatre vingt dix (90) jours à compter de la date limite de soumission des offres.\"\n",
      "    },\n",
      "    {\n",
      "        \"Référence\": \"S_FADCL_005\",\n",
      "        \"Objet\": \"hébergements des plateformes mines et hydrocarbures\",\n",
      "        \"Autorité\": \"Fonds d'Appui au Développement du Contenu local (FADCL)\",\n",
      "        \"Publié le\": \"09/05/2025\",\n",
      "        \"Date limite\": \"22/05/2025\",\n",
      "        \"Détail\": \"NA\"\n",
      "    },\n",
      "    {\n",
      "        \"Référence\": \"S_DCH_125\",\n",
      "        \"Objet\": \"sélection d'un prestataire pour l'organisation de colonie de vacances au profit des enfants du personnel du Port Autonome de Dakar\",\n",
      "        \"Autorité\": \"Port Autonome de Dakar (PAD)\",\n",
      "        \"Publié le\": \"18/04/2025\",\n",
      "        \"Date limite\": \"21/05/2025\",\n",
      "        \"Détail\": \"PORT AUTONOME DE DAKAR\\n==================\\nAvis d’Appel d’Offres Ouvert\\nCas sans préqualification\\nAAO n°S_DCH_125\\n==================\\nSélection d'un prestataire pour l'organisation d’une colonie de vacances au profit des enfants du personnel du Port Autonome de Dakar\\n=============\\n1. Le présent avis d’appel d’offres fait suite à l’Avis Général de Passation des Marchés paru dans le journal « Le Soleil » n°16380 du 09 janvier 2025 publié sur le Portail des Marchés publics du Sénégal et sur le site du Port www.portdakar.sn.\\n2. Le Port Autonome de Dakar a obtenu, dans le cadre de son budget de fonctionnement 2025, des fonds pour effectuer des paiements au titre du marché relatif à la sélection d'un prestataire pour l'organisation de Colonies de vacances au profit des enfants du personnel du Port Autonome de Dakar (S_DCH_125)\\n3.  Le Port Autonome de Dakar sollicite des offres sous pli fermé de la part de candidats éligibles et répondant aux qualifications requises pour assurer les services suivants :Assurer l’organisation et l’encadrement des activités éducatives, récréatives et de loisirs des enfants du personnel du Port Autonome de Dakar pendant toute la durée de la colonie dans les conditions d’hébergement, d’hygiène et de sécurité décrites dans le programme d’activités.\\n4. La passation du Marché sera conduite par appel d’offres ouvert tel que défini dans le décret n°2022 -2295- du 28 décembre 2022 portant Code des Marchés publics, et ouvert à tous les candidats éligibles.\\n5. Les candidats intéressés peuvent obtenir des informations auprès de la Personne Responsable du Marché ( Le Directeur du Capital Humain) Tél. : 33 849 45 45/ poste 7912 et par courriel : cpm@portdakar.sn et prendre connaissance des documents d’Appel d’offres à l’adresse mentionnée ci-après : Cellule de Passation des Marchés du Port Autonome de Dakar – Direction générale 21, boulevard de la Libération au 1er étage (couloir gauche) bureau n° 1D5 tél. : 33 849 45 45 poste 41-57, les jours ouvrables (du Lundi au Vendredi) :\\n• Lundi- Jeudi : 7 heures 30 mn à 13 heures 30 mn et de 14h à 16h30 mn,\\n• Vendredi : 7 heures 30 mn à 13 heures 30 mn\\n6. Les exigences en matière de qualification sont :\\na. Capacité financière\\nLe candidat doit fournir la preuve écrite qu’il satisfait à l’exigence ci-après :\\n• Produire les états financiers certifiés au titre des exercices 2021, 2022 et 2023 dûment par un expert ou cabinet d’expertise comptable agréé par l’Ordre National des Experts Comptables et Comptables Agrées du Sénégal (ONECCA) ou organismes assimilés. Ou s’il s’agit d’une entreprise communautaire des états financiers certifiés par un comptable ou un commissaire aux comptes agrée par un organe habilité de son pays d’origine.\\n• Disposer d’une ligne de crédit délivrée par une institution bancaire agréée par le Ministère des Finances et du Budget d’un montant de trente millions (30 000 0000) F CFA).\\nb. Capacité technique et expérience\\nLe candidat doit prouver, documentation à l’appui qu’il satisfait aux exigences de capacité technique et d’expérience ci-après :\\n Le soumissionnaire doit être une société de droit privé ou une association juridiquement constituée et reconnu par l’Etat en matière d’organisation de colonies de vacances. Fournir à cet effet les pièces justificatives, ;\\n Avoir réalisé au cours des trois (3) dernières années (2022,2023 et 2024) pour le compte d’une société de droit public ou privé, au moins un marché similaire (colonies organisées à l’extérieur du Sénégal avec un effectif environ plus de 50 enfants. A cet effet, joindre les attestations de service fait.\\n Justifier d’un personnel de qualité, capitalisant compétences et expériences en matière d’encadrement des collectivités éducatives et joindre obligatoirement les copies légalisées des diplômes et les CV des membres de l’encadrement désigné ci-après (critère éliminatoire :\\n Une fiche individuelle détaillant les qualifications de chaque encadreur devra être jointe à l’offre de services (cv, casiers judiciaires et copies certifiées conformes des diplômes). L’encadrement doit comprendre : – un (01) Directeur de la colonie ; – un (01) Directeur pédagogique ; – un (01) Médecin avec plusieurs années d’expérience ; (01) économat – 7 moniteurs diplômés ; – un Maître-nageur qualifié.\\n Les exigences pour chaque qualification sont énumérées ci-dessous :\\n- Pour le Directeur de la colonie : diplôme de Directeur de collectivités éducatives, présentation du carnet de Directeur attestant le nombre d’expériences en matière de colonie étrangère (1 colonie étrangère réalisée dans les trois (3) dernières années, 2022, 2023 et 2024), fournir une attestation de bonne exécution d’un marché similaire ;\\n- Pour le Directeur pédagogique : diplôme de Directeur de collectivités éducatives, présentation du carnet de Directeur attestant le nombre d’expériences en matière de colonie étrangère (1 colonie étrangère réalisée dans les trois (3) dernières années, 2022, 2023 et 2024) ;\\n- Pour l’économe : diplôme de Directeur de collectivités éducatives, présentation du carnet de Directeur attestant le nombre d’expériences en matière de colonie étrangère (1 colonie étrangère réalisée dans les trois (3) dernières années, (2022, 2023 et 2024);\\n- Pour le Médecin : être diplômé en médecine générale avec une participation requise en matière de colonie de vacances (1 colonie étrangère réalisée dans les trois (3) dernières années, (2022, 2023 et 2024) disponible à temps plein durant le séjour ;\\n- Pour le Maitre-nageur : diplôme de maitre-nageur sauveteur avec une expérience requise en matière de colonie de vacances (une colonie dans les trois (3) dernières années, (2022, 2023 et 2024); diplômé en secourisme ;\\n- Pour les Moniteurs : diplômé en collectivités éducatives et présentation du carnet de moniteur attestant le nombre d’expériences en matière de colonie de vacances avec une participation requise en matière de colonie de vacances (1 colonie étrangère réalisée dans les trois (3) dernières années, (2022, 2023 et 2024)\\n7. Les candidats intéressés peuvent obtenir un dossier d’appel d’offres complet en s’adressant à la Caisse Centrale de la Direction Financière et Comptable (DFC), sise à l’immeuble Ex COSEC, rue des Messageries, zone sud du Port, contre un paiement non remboursable de vingt-cinq mille (25 000) en FCFA les jours ouvrables (du Lundi au Vendredi) :\\n• Lundi- Jeudi : 7 heures 30 à 13 heures 30 et de 14h à 16h30 mn ;\\n• Vendredi : 7 heures 30 à 13 heures 30mn\\nNB. La méthode de paiement sera en espèces.\\nNB : Un exemplaire du dossier d’appel d’offres sera disponible pour être consulté gratuitement sur place pour les candidats qui le souhaitent\\n8. Les offres devront être soumises au plus tard le 21 MAI 2025 à 9h 30mn à la salle du Conseil d’Administration de la Direction Générale du Port, 1er étage sise au 21, boulevard de la Libération où les offres seront ouvertes en présence des représentants des candidats le même jour et à la même heure à l’adresse indiquée ci-dessus. Les offres remises en retard ne seront pas acceptées.\\nLes offres doivent comprendre une garantie de soumission, délivrée par un organisme financier agrée par le Ministère des Finances et du Budget, d’un montant d’un million cinq cent mille (1.500.000) francs CFA.\\nLes offres devront être valables pendant un délai minimum de 90 jours, à compter de la date limite de dépôt des offres, pendant lequel les candidats restent engagés par leurs offres.\\nLe Directeur Général\\nWaly Diouf BODIAN\"\n",
      "    },\n",
      "    {\n",
      "        \"Référence\": \"S_CPM_018\",\n",
      "        \"Objet\": \"Entretein et réparation de véhicules 2 lots\",\n",
      "        \"Autorité\": \"NA\",\n",
      "        \"Publié le\": \"18/04/2025\",\n",
      "        \"Date limite\": \"19/05/2025\",\n",
      "        \"Détail\": \"Avis d'Appel d'offres (AA0)\\nMinistère de l'Environnement et de la Transition Ecologique (groupe 2)\\nAvis d'Appel d'Offres n°\\nCet Avis d'appel d'offres fait suite à l'Avis Général de Passation des Marchés paru dans [NUM_PUB] du [DATE_PUB].\\nLe Autorité de Régulation des Marchés Publics [dispose | attend] de(s) [BAILLEURS] , afin de financer [insérer le nom du projet ou du programme, budget], et à l'intention d'utiliser une partie de ces fonds pour effectuer des paiements au titre du Marché Réalisation de l’audit de la passation des marchés de différentes autorités contractantes pour les gestions 2008 et 2009 .\\nLe Autorité de Régulation des Marchés Publics sollicite des offres de la part de candidats éligibles et répondant aux qualifications requises pour réaliser les travaux suivants : [insérer un brève description des travaux].\\nLa passation du Marché sera conduite par Appel d‘offres ouvert tel que défini dans le Code des Marchés publics, et ouvert à tous les candidats éligibles.\\nLes candidats intéressés peuvent obtenir des informations auprès de Autorité de Régulation des Marchés Publics ; [NOM_RESP] et prendre connaissance des documents d'Appel d'offres à l'adresse mentionnée ci-après de [Saisir l'heure du début et l'heure limite ] .\\nLes exigences en matière de qualifications sont : [insérer la liste des conditions d'ordre technique, financier, légal et autre(s)]. Voir le document d'Appel d'offres pour les informations détaillées.\\nLes candidats intéressés peuvent obtenir un dossier d'Appel d'offres complet en formulant une demande écrite à l'adresse mentionnée ci-après contre un paiement non remboursable de . Le document d'Appel d'offres sera adressé par [insérer le mode d'acheminement].\\nLes offres devront être soumises à au plus tard le .\\nles offres seront ouvertes en présence des représentants des candidats présents à le à .\\nles offres doivent comprendre une garantie de soumission, d'un montant de [insérer le montant en CFA ou le montant équivalent dans une monnaie librement convertible] valable pendant un délai de [indiquer la durée minimum de validité de la garantie] à compter de la date limite de dépôt des offres.\\nles offres devront être valables pendant un délai minimum de [indiquer le délai minimum pendant lequel les candidats restent engagés par leurs offres].\"\n",
      "    },\n",
      "    {\n",
      "        \"Référence\": \"S_CQHSE_110\",\n",
      "        \"Objet\": \"Sélection d’un prestataire pour l’accompagnement de la célébration de la Journée Mondiale de l'Environnement 'JME) et des autres Journées HSE jusqu'au 3ème trimestre 2025\",\n",
      "        \"Autorité\": \"Port Autonome de Dakar (PAD)\",\n",
      "        \"Publié le\": \"14/05/2025\",\n",
      "        \"Date limite\": \"14/05/2025\",\n",
      "        \"Détail\": \"NA\"\n",
      "    }\n",
      "]\n"
     ]
    }
   ],
   "source": [
    "# Convertir le dictionnaire en format texte\n",
    "offres_texte = json.dumps(offres_liste, indent=4, ensure_ascii=False)\n",
    "print(offres_texte)"
   ]
  }
 ],
 "metadata": {
  "kernelspec": {
   "display_name": "base",
   "language": "python",
   "name": "python3"
  },
  "language_info": {
   "codemirror_mode": {
    "name": "ipython",
    "version": 3
   },
   "file_extension": ".py",
   "mimetype": "text/x-python",
   "name": "python",
   "nbconvert_exporter": "python",
   "pygments_lexer": "ipython3",
   "version": "3.12.7"
  }
 },
 "nbformat": 4,
 "nbformat_minor": 5
}
